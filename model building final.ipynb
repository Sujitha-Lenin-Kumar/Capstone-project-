{
 "cells": [
  {
   "cell_type": "code",
   "execution_count": 175,
   "id": "5a99c8df",
   "metadata": {},
   "outputs": [],
   "source": [
    "import numpy as np\n",
    "import pandas as pd\n",
    "import seaborn as sns\n",
    "import matplotlib.pyplot as plt\n",
    "from sklearn.metrics import confusion_matrix\n",
    "from sklearn import metrics\n",
    "\n"
   ]
  },
  {
   "cell_type": "code",
   "execution_count": 176,
   "id": "c80dd24c",
   "metadata": {},
   "outputs": [],
   "source": [
    "pd.set_option('display.max_row',None)\n",
    "pd.set_option('display.max_columns',None)"
   ]
  },
  {
   "cell_type": "code",
   "execution_count": 177,
   "id": "3f521d88",
   "metadata": {
    "scrolled": false
   },
   "outputs": [
    {
     "data": {
      "text/html": [
       "<div>\n",
       "<style scoped>\n",
       "    .dataframe tbody tr th:only-of-type {\n",
       "        vertical-align: middle;\n",
       "    }\n",
       "\n",
       "    .dataframe tbody tr th {\n",
       "        vertical-align: top;\n",
       "    }\n",
       "\n",
       "    .dataframe thead th {\n",
       "        text-align: right;\n",
       "    }\n",
       "</style>\n",
       "<table border=\"1\" class=\"dataframe\">\n",
       "  <thead>\n",
       "    <tr style=\"text-align: right;\">\n",
       "      <th></th>\n",
       "      <th>0</th>\n",
       "      <th>1</th>\n",
       "      <th>2</th>\n",
       "      <th>3</th>\n",
       "      <th>4</th>\n",
       "    </tr>\n",
       "  </thead>\n",
       "  <tbody>\n",
       "    <tr>\n",
       "      <th>ethnicity_Caucasian</th>\n",
       "      <td>1.000000e+00</td>\n",
       "      <td>1.000000e+00</td>\n",
       "      <td>1.000000e+00</td>\n",
       "      <td>1.000000e+00</td>\n",
       "      <td>1.000000e+00</td>\n",
       "    </tr>\n",
       "    <tr>\n",
       "      <th>ethnicity_Other</th>\n",
       "      <td>0.000000e+00</td>\n",
       "      <td>0.000000e+00</td>\n",
       "      <td>0.000000e+00</td>\n",
       "      <td>0.000000e+00</td>\n",
       "      <td>0.000000e+00</td>\n",
       "    </tr>\n",
       "    <tr>\n",
       "      <th>gender_M</th>\n",
       "      <td>1.000000e+00</td>\n",
       "      <td>0.000000e+00</td>\n",
       "      <td>0.000000e+00</td>\n",
       "      <td>0.000000e+00</td>\n",
       "      <td>1.000000e+00</td>\n",
       "    </tr>\n",
       "    <tr>\n",
       "      <th>icu_admit_source_Floor</th>\n",
       "      <td>1.000000e+00</td>\n",
       "      <td>1.000000e+00</td>\n",
       "      <td>0.000000e+00</td>\n",
       "      <td>0.000000e+00</td>\n",
       "      <td>0.000000e+00</td>\n",
       "    </tr>\n",
       "    <tr>\n",
       "      <th>icu_admit_source_Operating Room / Recovery</th>\n",
       "      <td>0.000000e+00</td>\n",
       "      <td>0.000000e+00</td>\n",
       "      <td>0.000000e+00</td>\n",
       "      <td>1.000000e+00</td>\n",
       "      <td>0.000000e+00</td>\n",
       "    </tr>\n",
       "    <tr>\n",
       "      <th>icu_admit_source_Other</th>\n",
       "      <td>0.000000e+00</td>\n",
       "      <td>0.000000e+00</td>\n",
       "      <td>0.000000e+00</td>\n",
       "      <td>0.000000e+00</td>\n",
       "      <td>0.000000e+00</td>\n",
       "    </tr>\n",
       "    <tr>\n",
       "      <th>icu_stay_type_readmit</th>\n",
       "      <td>0.000000e+00</td>\n",
       "      <td>0.000000e+00</td>\n",
       "      <td>0.000000e+00</td>\n",
       "      <td>0.000000e+00</td>\n",
       "      <td>0.000000e+00</td>\n",
       "    </tr>\n",
       "    <tr>\n",
       "      <th>icu_stay_type_transfer</th>\n",
       "      <td>0.000000e+00</td>\n",
       "      <td>0.000000e+00</td>\n",
       "      <td>0.000000e+00</td>\n",
       "      <td>0.000000e+00</td>\n",
       "      <td>0.000000e+00</td>\n",
       "    </tr>\n",
       "    <tr>\n",
       "      <th>icu_type_CSICU</th>\n",
       "      <td>0.000000e+00</td>\n",
       "      <td>0.000000e+00</td>\n",
       "      <td>0.000000e+00</td>\n",
       "      <td>0.000000e+00</td>\n",
       "      <td>0.000000e+00</td>\n",
       "    </tr>\n",
       "    <tr>\n",
       "      <th>icu_type_CTICU</th>\n",
       "      <td>1.000000e+00</td>\n",
       "      <td>0.000000e+00</td>\n",
       "      <td>0.000000e+00</td>\n",
       "      <td>1.000000e+00</td>\n",
       "      <td>0.000000e+00</td>\n",
       "    </tr>\n",
       "    <tr>\n",
       "      <th>icu_type_Cardiac ICU</th>\n",
       "      <td>0.000000e+00</td>\n",
       "      <td>0.000000e+00</td>\n",
       "      <td>0.000000e+00</td>\n",
       "      <td>0.000000e+00</td>\n",
       "      <td>0.000000e+00</td>\n",
       "    </tr>\n",
       "    <tr>\n",
       "      <th>icu_type_MICU</th>\n",
       "      <td>0.000000e+00</td>\n",
       "      <td>0.000000e+00</td>\n",
       "      <td>0.000000e+00</td>\n",
       "      <td>0.000000e+00</td>\n",
       "      <td>0.000000e+00</td>\n",
       "    </tr>\n",
       "    <tr>\n",
       "      <th>icu_type_Med-Surg ICU</th>\n",
       "      <td>0.000000e+00</td>\n",
       "      <td>1.000000e+00</td>\n",
       "      <td>1.000000e+00</td>\n",
       "      <td>0.000000e+00</td>\n",
       "      <td>1.000000e+00</td>\n",
       "    </tr>\n",
       "    <tr>\n",
       "      <th>icu_type_Neuro ICU</th>\n",
       "      <td>0.000000e+00</td>\n",
       "      <td>0.000000e+00</td>\n",
       "      <td>0.000000e+00</td>\n",
       "      <td>0.000000e+00</td>\n",
       "      <td>0.000000e+00</td>\n",
       "    </tr>\n",
       "    <tr>\n",
       "      <th>icu_type_SICU</th>\n",
       "      <td>0.000000e+00</td>\n",
       "      <td>0.000000e+00</td>\n",
       "      <td>0.000000e+00</td>\n",
       "      <td>0.000000e+00</td>\n",
       "      <td>0.000000e+00</td>\n",
       "    </tr>\n",
       "    <tr>\n",
       "      <th>apache_3j_bodysystem_Gastrointestinal</th>\n",
       "      <td>0.000000e+00</td>\n",
       "      <td>0.000000e+00</td>\n",
       "      <td>0.000000e+00</td>\n",
       "      <td>0.000000e+00</td>\n",
       "      <td>0.000000e+00</td>\n",
       "    </tr>\n",
       "    <tr>\n",
       "      <th>apache_3j_bodysystem_Metabolic</th>\n",
       "      <td>0.000000e+00</td>\n",
       "      <td>0.000000e+00</td>\n",
       "      <td>1.000000e+00</td>\n",
       "      <td>0.000000e+00</td>\n",
       "      <td>0.000000e+00</td>\n",
       "    </tr>\n",
       "    <tr>\n",
       "      <th>apache_3j_bodysystem_Neurological</th>\n",
       "      <td>0.000000e+00</td>\n",
       "      <td>0.000000e+00</td>\n",
       "      <td>0.000000e+00</td>\n",
       "      <td>0.000000e+00</td>\n",
       "      <td>0.000000e+00</td>\n",
       "    </tr>\n",
       "    <tr>\n",
       "      <th>apache_3j_bodysystem_Other</th>\n",
       "      <td>0.000000e+00</td>\n",
       "      <td>0.000000e+00</td>\n",
       "      <td>0.000000e+00</td>\n",
       "      <td>0.000000e+00</td>\n",
       "      <td>0.000000e+00</td>\n",
       "    </tr>\n",
       "    <tr>\n",
       "      <th>apache_3j_bodysystem_Respiratory</th>\n",
       "      <td>0.000000e+00</td>\n",
       "      <td>1.000000e+00</td>\n",
       "      <td>0.000000e+00</td>\n",
       "      <td>0.000000e+00</td>\n",
       "      <td>0.000000e+00</td>\n",
       "    </tr>\n",
       "    <tr>\n",
       "      <th>apache_3j_bodysystem_Sepsis</th>\n",
       "      <td>1.000000e+00</td>\n",
       "      <td>0.000000e+00</td>\n",
       "      <td>0.000000e+00</td>\n",
       "      <td>0.000000e+00</td>\n",
       "      <td>0.000000e+00</td>\n",
       "    </tr>\n",
       "    <tr>\n",
       "      <th>apache_3j_bodysystem_Trauma</th>\n",
       "      <td>0.000000e+00</td>\n",
       "      <td>0.000000e+00</td>\n",
       "      <td>0.000000e+00</td>\n",
       "      <td>0.000000e+00</td>\n",
       "      <td>1.000000e+00</td>\n",
       "    </tr>\n",
       "    <tr>\n",
       "      <th>apache_2_bodysystem_Gastrointestinal</th>\n",
       "      <td>0.000000e+00</td>\n",
       "      <td>0.000000e+00</td>\n",
       "      <td>0.000000e+00</td>\n",
       "      <td>0.000000e+00</td>\n",
       "      <td>0.000000e+00</td>\n",
       "    </tr>\n",
       "    <tr>\n",
       "      <th>apache_2_bodysystem_Haematologic</th>\n",
       "      <td>0.000000e+00</td>\n",
       "      <td>0.000000e+00</td>\n",
       "      <td>0.000000e+00</td>\n",
       "      <td>0.000000e+00</td>\n",
       "      <td>0.000000e+00</td>\n",
       "    </tr>\n",
       "    <tr>\n",
       "      <th>apache_2_bodysystem_Metabolic</th>\n",
       "      <td>0.000000e+00</td>\n",
       "      <td>0.000000e+00</td>\n",
       "      <td>1.000000e+00</td>\n",
       "      <td>0.000000e+00</td>\n",
       "      <td>0.000000e+00</td>\n",
       "    </tr>\n",
       "    <tr>\n",
       "      <th>apache_2_bodysystem_Neurologic</th>\n",
       "      <td>0.000000e+00</td>\n",
       "      <td>0.000000e+00</td>\n",
       "      <td>0.000000e+00</td>\n",
       "      <td>0.000000e+00</td>\n",
       "      <td>0.000000e+00</td>\n",
       "    </tr>\n",
       "    <tr>\n",
       "      <th>apache_2_bodysystem_Other</th>\n",
       "      <td>0.000000e+00</td>\n",
       "      <td>0.000000e+00</td>\n",
       "      <td>0.000000e+00</td>\n",
       "      <td>0.000000e+00</td>\n",
       "      <td>0.000000e+00</td>\n",
       "    </tr>\n",
       "    <tr>\n",
       "      <th>apache_2_bodysystem_Respiratory</th>\n",
       "      <td>0.000000e+00</td>\n",
       "      <td>1.000000e+00</td>\n",
       "      <td>0.000000e+00</td>\n",
       "      <td>0.000000e+00</td>\n",
       "      <td>0.000000e+00</td>\n",
       "    </tr>\n",
       "    <tr>\n",
       "      <th>apache_2_bodysystem_Trauma</th>\n",
       "      <td>0.000000e+00</td>\n",
       "      <td>0.000000e+00</td>\n",
       "      <td>0.000000e+00</td>\n",
       "      <td>0.000000e+00</td>\n",
       "      <td>1.000000e+00</td>\n",
       "    </tr>\n",
       "    <tr>\n",
       "      <th>apache_2_bodysystem_Undefined Diagnoses</th>\n",
       "      <td>0.000000e+00</td>\n",
       "      <td>0.000000e+00</td>\n",
       "      <td>0.000000e+00</td>\n",
       "      <td>0.000000e+00</td>\n",
       "      <td>0.000000e+00</td>\n",
       "    </tr>\n",
       "    <tr>\n",
       "      <th>age</th>\n",
       "      <td>1.017138e+03</td>\n",
       "      <td>1.263861e+03</td>\n",
       "      <td>1.802108e+02</td>\n",
       "      <td>1.380925e+03</td>\n",
       "      <td>1.232911e+02</td>\n",
       "    </tr>\n",
       "    <tr>\n",
       "      <th>bmi</th>\n",
       "      <td>1.518835e+00</td>\n",
       "      <td>1.550026e+00</td>\n",
       "      <td>1.573436e+00</td>\n",
       "      <td>1.518145e+00</td>\n",
       "      <td>1.524220e+00</td>\n",
       "    </tr>\n",
       "    <tr>\n",
       "      <th>height</th>\n",
       "      <td>2.308226e+03</td>\n",
       "      <td>1.913955e+03</td>\n",
       "      <td>2.157463e+03</td>\n",
       "      <td>2.010459e+03</td>\n",
       "      <td>2.464736e+03</td>\n",
       "    </tr>\n",
       "    <tr>\n",
       "      <th>pre_icu_los_days</th>\n",
       "      <td>2.743814e-01</td>\n",
       "      <td>3.391312e-01</td>\n",
       "      <td>6.936503e-04</td>\n",
       "      <td>6.936503e-04</td>\n",
       "      <td>6.554114e-02</td>\n",
       "    </tr>\n",
       "    <tr>\n",
       "      <th>weight</th>\n",
       "      <td>3.183834e+00</td>\n",
       "      <td>3.157097e+00</td>\n",
       "      <td>3.313527e+00</td>\n",
       "      <td>3.089107e+00</td>\n",
       "      <td>3.062357e+00</td>\n",
       "    </tr>\n",
       "    <tr>\n",
       "      <th>apache_2_diagnosis</th>\n",
       "      <td>9.628277e-01</td>\n",
       "      <td>9.624796e-01</td>\n",
       "      <td>9.633820e-01</td>\n",
       "      <td>9.661466e-01</td>\n",
       "      <td>9.632066e-01</td>\n",
       "    </tr>\n",
       "    <tr>\n",
       "      <th>apache_3j_diagnosis</th>\n",
       "      <td>1.463029e+01</td>\n",
       "      <td>1.092324e+01</td>\n",
       "      <td>1.623441e+01</td>\n",
       "      <td>1.909835e+01</td>\n",
       "      <td>1.547107e+01</td>\n",
       "    </tr>\n",
       "    <tr>\n",
       "      <th>gcs_eyes_apache</th>\n",
       "      <td>2.895626e+02</td>\n",
       "      <td>7.211127e+00</td>\n",
       "      <td>2.895626e+02</td>\n",
       "      <td>9.434125e+02</td>\n",
       "      <td>4.795882e+02</td>\n",
       "    </tr>\n",
       "    <tr>\n",
       "      <th>gcs_motor_apache</th>\n",
       "      <td>1.085600e+05</td>\n",
       "      <td>2.214197e+03</td>\n",
       "      <td>1.085600e+05</td>\n",
       "      <td>1.085600e+05</td>\n",
       "      <td>8.873756e+04</td>\n",
       "    </tr>\n",
       "    <tr>\n",
       "      <th>gcs_verbal_apache</th>\n",
       "      <td>5.145523e+01</td>\n",
       "      <td>2.522575e+00</td>\n",
       "      <td>9.194289e+01</td>\n",
       "      <td>9.194289e+01</td>\n",
       "      <td>2.521039e+01</td>\n",
       "    </tr>\n",
       "    <tr>\n",
       "      <th>heart_rate_apache</th>\n",
       "      <td>2.886964e+02</td>\n",
       "      <td>2.946889e+02</td>\n",
       "      <td>2.416128e+02</td>\n",
       "      <td>2.767809e+02</td>\n",
       "      <td>1.265147e+02</td>\n",
       "    </tr>\n",
       "    <tr>\n",
       "      <th>map_apache</th>\n",
       "      <td>1.672571e+00</td>\n",
       "      <td>1.692661e+00</td>\n",
       "      <td>1.742229e+00</td>\n",
       "      <td>1.727358e+00</td>\n",
       "      <td>1.785548e+00</td>\n",
       "    </tr>\n",
       "    <tr>\n",
       "      <th>resprate_apache</th>\n",
       "      <td>1.016513e+01</td>\n",
       "      <td>9.661543e+00</td>\n",
       "      <td>1.032843e+01</td>\n",
       "      <td>2.472099e+00</td>\n",
       "      <td>6.246031e+00</td>\n",
       "    </tr>\n",
       "    <tr>\n",
       "      <th>temp_apache</th>\n",
       "      <td>7.904530e+06</td>\n",
       "      <td>4.703652e+06</td>\n",
       "      <td>5.771217e+06</td>\n",
       "      <td>4.522115e+06</td>\n",
       "      <td>5.771217e+06</td>\n",
       "    </tr>\n",
       "    <tr>\n",
       "      <th>d1_diasbp_max</th>\n",
       "      <td>3.540559e+00</td>\n",
       "      <td>3.765615e+00</td>\n",
       "      <td>3.714589e+00</td>\n",
       "      <td>3.342572e+00</td>\n",
       "      <td>3.792987e+00</td>\n",
       "    </tr>\n",
       "    <tr>\n",
       "      <th>d1_diasbp_min</th>\n",
       "      <td>3.068569e+01</td>\n",
       "      <td>2.598981e+01</td>\n",
       "      <td>3.916760e+01</td>\n",
       "      <td>3.455957e+01</td>\n",
       "      <td>4.600828e+01</td>\n",
       "    </tr>\n",
       "    <tr>\n",
       "      <th>d1_diasbp_noninvasive_max</th>\n",
       "      <td>3.575465e+00</td>\n",
       "      <td>3.805452e+00</td>\n",
       "      <td>3.753275e+00</td>\n",
       "      <td>3.373445e+00</td>\n",
       "      <td>3.833450e+00</td>\n",
       "    </tr>\n",
       "    <tr>\n",
       "      <th>d1_diasbp_noninvasive_min</th>\n",
       "      <td>3.147526e+01</td>\n",
       "      <td>2.661933e+01</td>\n",
       "      <td>4.026412e+01</td>\n",
       "      <td>3.548671e+01</td>\n",
       "      <td>4.736631e+01</td>\n",
       "    </tr>\n",
       "    <tr>\n",
       "      <th>d1_heartrate_max</th>\n",
       "      <td>5.056599e+00</td>\n",
       "      <td>5.047274e+00</td>\n",
       "      <td>4.820028e+00</td>\n",
       "      <td>5.028391e+00</td>\n",
       "      <td>4.737023e+00</td>\n",
       "    </tr>\n",
       "    <tr>\n",
       "      <th>d1_heartrate_min</th>\n",
       "      <td>1.176011e+02</td>\n",
       "      <td>1.176011e+02</td>\n",
       "      <td>1.102026e+02</td>\n",
       "      <td>1.554262e+02</td>\n",
       "      <td>9.559364e+01</td>\n",
       "    </tr>\n",
       "    <tr>\n",
       "      <th>d1_mbp_max</th>\n",
       "      <td>2.669660e+00</td>\n",
       "      <td>2.759557e+00</td>\n",
       "      <td>2.711485e+00</td>\n",
       "      <td>2.651500e+00</td>\n",
       "      <td>2.717330e+00</td>\n",
       "    </tr>\n",
       "    <tr>\n",
       "      <th>d1_mbp_min</th>\n",
       "      <td>2.563067e+01</td>\n",
       "      <td>2.192166e+01</td>\n",
       "      <td>3.523601e+01</td>\n",
       "      <td>4.182157e+01</td>\n",
       "      <td>4.422368e+01</td>\n",
       "    </tr>\n",
       "    <tr>\n",
       "      <th>d1_mbp_noninvasive_max</th>\n",
       "      <td>2.899789e+00</td>\n",
       "      <td>3.010287e+00</td>\n",
       "      <td>2.951019e+00</td>\n",
       "      <td>2.877639e+00</td>\n",
       "      <td>2.958202e+00</td>\n",
       "    </tr>\n",
       "    <tr>\n",
       "      <th>d1_mbp_noninvasive_min</th>\n",
       "      <td>2.638038e+01</td>\n",
       "      <td>2.252425e+01</td>\n",
       "      <td>3.639703e+01</td>\n",
       "      <td>4.328518e+01</td>\n",
       "      <td>4.580120e+01</td>\n",
       "    </tr>\n",
       "    <tr>\n",
       "      <th>d1_resprate_max</th>\n",
       "      <td>1.113609e+00</td>\n",
       "      <td>1.110722e+00</td>\n",
       "      <td>1.086341e+00</td>\n",
       "      <td>1.092308e+00</td>\n",
       "      <td>1.075228e+00</td>\n",
       "    </tr>\n",
       "    <tr>\n",
       "      <th>d1_resprate_min</th>\n",
       "      <td>1.025593e+01</td>\n",
       "      <td>1.233393e+01</td>\n",
       "      <td>8.183769e+00</td>\n",
       "      <td>7.150263e+00</td>\n",
       "      <td>1.650414e+01</td>\n",
       "    </tr>\n",
       "    <tr>\n",
       "      <th>d1_spo2_max</th>\n",
       "      <td>1.240591e+152</td>\n",
       "      <td>1.240591e+152</td>\n",
       "      <td>2.668857e+151</td>\n",
       "      <td>1.240591e+152</td>\n",
       "      <td>1.240591e+152</td>\n",
       "    </tr>\n",
       "    <tr>\n",
       "      <th>d1_spo2_min</th>\n",
       "      <td>5.084960e+11</td>\n",
       "      <td>3.525411e+11</td>\n",
       "      <td>1.991857e+12</td>\n",
       "      <td>2.647190e+12</td>\n",
       "      <td>2.837021e+12</td>\n",
       "    </tr>\n",
       "    <tr>\n",
       "      <th>d1_sysbp_max</th>\n",
       "      <td>4.599576e+00</td>\n",
       "      <td>4.769666e+00</td>\n",
       "      <td>4.706782e+00</td>\n",
       "      <td>4.764135e+00</td>\n",
       "      <td>4.700832e+00</td>\n",
       "    </tr>\n",
       "    <tr>\n",
       "      <th>d1_sysbp_min</th>\n",
       "      <td>3.004508e+01</td>\n",
       "      <td>2.817207e+01</td>\n",
       "      <td>3.942440e+01</td>\n",
       "      <td>3.337510e+01</td>\n",
       "      <td>4.354441e+01</td>\n",
       "    </tr>\n",
       "    <tr>\n",
       "      <th>d1_sysbp_noninvasive_max</th>\n",
       "      <td>4.635458e+00</td>\n",
       "      <td>4.808318e+00</td>\n",
       "      <td>4.744398e+00</td>\n",
       "      <td>4.802696e+00</td>\n",
       "      <td>4.738350e+00</td>\n",
       "    </tr>\n",
       "    <tr>\n",
       "      <th>d1_sysbp_noninvasive_min</th>\n",
       "      <td>3.029118e+01</td>\n",
       "      <td>2.839722e+01</td>\n",
       "      <td>3.978106e+01</td>\n",
       "      <td>3.365942e+01</td>\n",
       "      <td>4.395224e+01</td>\n",
       "    </tr>\n",
       "    <tr>\n",
       "      <th>d1_temp_max</th>\n",
       "      <td>1.182001e-01</td>\n",
       "      <td>1.182001e-01</td>\n",
       "      <td>1.182001e-01</td>\n",
       "      <td>1.182001e-01</td>\n",
       "      <td>1.182001e-01</td>\n",
       "    </tr>\n",
       "    <tr>\n",
       "      <th>d1_temp_min</th>\n",
       "      <td>1.353261e+35</td>\n",
       "      <td>3.672234e+34</td>\n",
       "      <td>9.985933e+34</td>\n",
       "      <td>3.029210e+34</td>\n",
       "      <td>9.985933e+34</td>\n",
       "    </tr>\n",
       "    <tr>\n",
       "      <th>h1_diasbp_max</th>\n",
       "      <td>5.000893e+00</td>\n",
       "      <td>4.853572e+00</td>\n",
       "      <td>5.356319e+00</td>\n",
       "      <td>4.875531e+00</td>\n",
       "      <td>5.521373e+00</td>\n",
       "    </tr>\n",
       "    <tr>\n",
       "      <th>h1_diasbp_min</th>\n",
       "      <td>2.093424e+01</td>\n",
       "      <td>1.739042e+01</td>\n",
       "      <td>1.978978e+01</td>\n",
       "      <td>1.638232e+01</td>\n",
       "      <td>2.204710e+01</td>\n",
       "    </tr>\n",
       "    <tr>\n",
       "      <th>h1_diasbp_noninvasive_max</th>\n",
       "      <td>5.184392e+00</td>\n",
       "      <td>5.026836e+00</td>\n",
       "      <td>5.565617e+00</td>\n",
       "      <td>5.343705e+00</td>\n",
       "      <td>5.743179e+00</td>\n",
       "    </tr>\n",
       "    <tr>\n",
       "      <th>h1_diasbp_noninvasive_min</th>\n",
       "      <td>2.285780e+01</td>\n",
       "      <td>1.885799e+01</td>\n",
       "      <td>2.156261e+01</td>\n",
       "      <td>2.033885e+01</td>\n",
       "      <td>2.412019e+01</td>\n",
       "    </tr>\n",
       "    <tr>\n",
       "      <th>h1_heartrate_max</th>\n",
       "      <td>6.736411e+00</td>\n",
       "      <td>6.655271e+00</td>\n",
       "      <td>6.335376e+00</td>\n",
       "      <td>6.410651e+00</td>\n",
       "      <td>6.196934e+00</td>\n",
       "    </tr>\n",
       "    <tr>\n",
       "      <th>h1_heartrate_min</th>\n",
       "      <td>1.481902e+01</td>\n",
       "      <td>1.427417e+01</td>\n",
       "      <td>1.263300e+01</td>\n",
       "      <td>1.399238e+01</td>\n",
       "      <td>1.247132e+01</td>\n",
       "    </tr>\n",
       "    <tr>\n",
       "      <th>h1_mbp_max</th>\n",
       "      <td>4.341154e+00</td>\n",
       "      <td>4.330232e+00</td>\n",
       "      <td>4.393923e+00</td>\n",
       "      <td>4.404128e+00</td>\n",
       "      <td>4.518586e+00</td>\n",
       "    </tr>\n",
       "    <tr>\n",
       "      <th>h1_mbp_min</th>\n",
       "      <td>2.142676e+01</td>\n",
       "      <td>1.666633e+01</td>\n",
       "      <td>2.111055e+01</td>\n",
       "      <td>1.914331e+01</td>\n",
       "      <td>2.251016e+01</td>\n",
       "    </tr>\n",
       "    <tr>\n",
       "      <th>h1_mbp_noninvasive_max</th>\n",
       "      <td>4.747393e+00</td>\n",
       "      <td>4.734347e+00</td>\n",
       "      <td>4.810510e+00</td>\n",
       "      <td>4.775588e+00</td>\n",
       "      <td>4.960180e+00</td>\n",
       "    </tr>\n",
       "    <tr>\n",
       "      <th>h1_mbp_noninvasive_min</th>\n",
       "      <td>2.339513e+01</td>\n",
       "      <td>1.802632e+01</td>\n",
       "      <td>2.303673e+01</td>\n",
       "      <td>1.944848e+01</td>\n",
       "      <td>2.462489e+01</td>\n",
       "    </tr>\n",
       "    <tr>\n",
       "      <th>h1_resprate_max</th>\n",
       "      <td>1.846569e+00</td>\n",
       "      <td>1.891497e+00</td>\n",
       "      <td>1.774354e+00</td>\n",
       "      <td>1.615066e+00</td>\n",
       "      <td>1.806327e+00</td>\n",
       "    </tr>\n",
       "    <tr>\n",
       "      <th>h1_resprate_min</th>\n",
       "      <td>8.244826e+00</td>\n",
       "      <td>1.115494e+01</td>\n",
       "      <td>7.596166e+00</td>\n",
       "      <td>5.827667e+00</td>\n",
       "      <td>8.496766e+00</td>\n",
       "    </tr>\n",
       "    <tr>\n",
       "      <th>h1_spo2_max</th>\n",
       "      <td>8.147096e+51</td>\n",
       "      <td>2.109779e+51</td>\n",
       "      <td>4.784747e+51</td>\n",
       "      <td>8.147096e+51</td>\n",
       "      <td>8.147096e+51</td>\n",
       "    </tr>\n",
       "    <tr>\n",
       "      <th>h1_spo2_min</th>\n",
       "      <td>7.000527e+18</td>\n",
       "      <td>5.256989e+18</td>\n",
       "      <td>6.100707e+19</td>\n",
       "      <td>1.476136e+20</td>\n",
       "      <td>1.640290e+20</td>\n",
       "    </tr>\n",
       "    <tr>\n",
       "      <th>h1_sysbp_max</th>\n",
       "      <td>5.229219e+00</td>\n",
       "      <td>4.866142e+00</td>\n",
       "      <td>5.368183e+00</td>\n",
       "      <td>5.271817e+00</td>\n",
       "      <td>5.220511e+00</td>\n",
       "    </tr>\n",
       "    <tr>\n",
       "      <th>h1_sysbp_min</th>\n",
       "      <td>2.302915e+01</td>\n",
       "      <td>1.729503e+01</td>\n",
       "      <td>2.407186e+01</td>\n",
       "      <td>2.194936e+01</td>\n",
       "      <td>2.361275e+01</td>\n",
       "    </tr>\n",
       "    <tr>\n",
       "      <th>h1_sysbp_noninvasive_max</th>\n",
       "      <td>5.152258e+00</td>\n",
       "      <td>4.799249e+00</td>\n",
       "      <td>5.287193e+00</td>\n",
       "      <td>5.033324e+00</td>\n",
       "      <td>5.143800e+00</td>\n",
       "    </tr>\n",
       "    <tr>\n",
       "      <th>h1_sysbp_noninvasive_min</th>\n",
       "      <td>2.468175e+01</td>\n",
       "      <td>1.838046e+01</td>\n",
       "      <td>2.583395e+01</td>\n",
       "      <td>2.208714e+01</td>\n",
       "      <td>2.532641e+01</td>\n",
       "    </tr>\n",
       "    <tr>\n",
       "      <th>d1_glucose_max</th>\n",
       "      <td>1.474797e+00</td>\n",
       "      <td>1.469449e+00</td>\n",
       "      <td>1.462979e+00</td>\n",
       "      <td>1.478033e+00</td>\n",
       "      <td>1.467535e+00</td>\n",
       "    </tr>\n",
       "    <tr>\n",
       "      <th>d1_glucose_min</th>\n",
       "      <td>5.880815e+00</td>\n",
       "      <td>6.128171e+00</td>\n",
       "      <td>5.815112e+00</td>\n",
       "      <td>5.557503e+00</td>\n",
       "      <td>5.767852e+00</td>\n",
       "    </tr>\n",
       "    <tr>\n",
       "      <th>d1_potassium_max</th>\n",
       "      <td>7.106609e-01</td>\n",
       "      <td>7.161720e-01</td>\n",
       "      <td>7.226742e-01</td>\n",
       "      <td>7.342093e-01</td>\n",
       "      <td>7.272295e-01</td>\n",
       "    </tr>\n",
       "    <tr>\n",
       "      <th>d1_potassium_min</th>\n",
       "      <td>2.009667e+00</td>\n",
       "      <td>2.168006e+00</td>\n",
       "      <td>2.362293e+00</td>\n",
       "      <td>2.050045e+00</td>\n",
       "      <td>2.281569e+00</td>\n",
       "    </tr>\n",
       "    <tr>\n",
       "      <th>apache_4a_hospital_death_prob</th>\n",
       "      <td>6.740057e-02</td>\n",
       "      <td>1.225837e-01</td>\n",
       "      <td>0.000000e+00</td>\n",
       "      <td>3.382384e-02</td>\n",
       "      <td>9.233076e-02</td>\n",
       "    </tr>\n",
       "    <tr>\n",
       "      <th>apache_4a_icu_death_prob</th>\n",
       "      <td>3.642289e-02</td>\n",
       "      <td>7.600234e-02</td>\n",
       "      <td>0.000000e+00</td>\n",
       "      <td>2.466838e-02</td>\n",
       "      <td>5.486695e-02</td>\n",
       "    </tr>\n",
       "    <tr>\n",
       "      <th>elective_surgery</th>\n",
       "      <td>0.000000e+00</td>\n",
       "      <td>0.000000e+00</td>\n",
       "      <td>0.000000e+00</td>\n",
       "      <td>1.000000e+00</td>\n",
       "      <td>0.000000e+00</td>\n",
       "    </tr>\n",
       "    <tr>\n",
       "      <th>apache_post_operative</th>\n",
       "      <td>0.000000e+00</td>\n",
       "      <td>0.000000e+00</td>\n",
       "      <td>0.000000e+00</td>\n",
       "      <td>1.000000e+00</td>\n",
       "      <td>0.000000e+00</td>\n",
       "    </tr>\n",
       "    <tr>\n",
       "      <th>arf_apache</th>\n",
       "      <td>0.000000e+00</td>\n",
       "      <td>0.000000e+00</td>\n",
       "      <td>0.000000e+00</td>\n",
       "      <td>0.000000e+00</td>\n",
       "      <td>0.000000e+00</td>\n",
       "    </tr>\n",
       "    <tr>\n",
       "      <th>gcs_unable_apache</th>\n",
       "      <td>0.000000e+00</td>\n",
       "      <td>0.000000e+00</td>\n",
       "      <td>0.000000e+00</td>\n",
       "      <td>0.000000e+00</td>\n",
       "      <td>0.000000e+00</td>\n",
       "    </tr>\n",
       "    <tr>\n",
       "      <th>intubated_apache</th>\n",
       "      <td>0.000000e+00</td>\n",
       "      <td>0.000000e+00</td>\n",
       "      <td>0.000000e+00</td>\n",
       "      <td>1.000000e+00</td>\n",
       "      <td>0.000000e+00</td>\n",
       "    </tr>\n",
       "    <tr>\n",
       "      <th>ventilated_apache</th>\n",
       "      <td>0.000000e+00</td>\n",
       "      <td>1.000000e+00</td>\n",
       "      <td>0.000000e+00</td>\n",
       "      <td>1.000000e+00</td>\n",
       "      <td>0.000000e+00</td>\n",
       "    </tr>\n",
       "    <tr>\n",
       "      <th>aids</th>\n",
       "      <td>0.000000e+00</td>\n",
       "      <td>0.000000e+00</td>\n",
       "      <td>0.000000e+00</td>\n",
       "      <td>0.000000e+00</td>\n",
       "      <td>0.000000e+00</td>\n",
       "    </tr>\n",
       "    <tr>\n",
       "      <th>cirrhosis</th>\n",
       "      <td>0.000000e+00</td>\n",
       "      <td>0.000000e+00</td>\n",
       "      <td>0.000000e+00</td>\n",
       "      <td>0.000000e+00</td>\n",
       "      <td>0.000000e+00</td>\n",
       "    </tr>\n",
       "    <tr>\n",
       "      <th>diabetes_mellitus</th>\n",
       "      <td>1.000000e+00</td>\n",
       "      <td>1.000000e+00</td>\n",
       "      <td>0.000000e+00</td>\n",
       "      <td>0.000000e+00</td>\n",
       "      <td>0.000000e+00</td>\n",
       "    </tr>\n",
       "    <tr>\n",
       "      <th>hepatic_failure</th>\n",
       "      <td>0.000000e+00</td>\n",
       "      <td>0.000000e+00</td>\n",
       "      <td>0.000000e+00</td>\n",
       "      <td>0.000000e+00</td>\n",
       "      <td>0.000000e+00</td>\n",
       "    </tr>\n",
       "    <tr>\n",
       "      <th>immunosuppression</th>\n",
       "      <td>0.000000e+00</td>\n",
       "      <td>0.000000e+00</td>\n",
       "      <td>0.000000e+00</td>\n",
       "      <td>0.000000e+00</td>\n",
       "      <td>0.000000e+00</td>\n",
       "    </tr>\n",
       "    <tr>\n",
       "      <th>leukemia</th>\n",
       "      <td>0.000000e+00</td>\n",
       "      <td>0.000000e+00</td>\n",
       "      <td>0.000000e+00</td>\n",
       "      <td>0.000000e+00</td>\n",
       "      <td>0.000000e+00</td>\n",
       "    </tr>\n",
       "    <tr>\n",
       "      <th>lymphoma</th>\n",
       "      <td>0.000000e+00</td>\n",
       "      <td>0.000000e+00</td>\n",
       "      <td>0.000000e+00</td>\n",
       "      <td>0.000000e+00</td>\n",
       "      <td>0.000000e+00</td>\n",
       "    </tr>\n",
       "    <tr>\n",
       "      <th>solid_tumor_with_metastasis</th>\n",
       "      <td>0.000000e+00</td>\n",
       "      <td>0.000000e+00</td>\n",
       "      <td>0.000000e+00</td>\n",
       "      <td>0.000000e+00</td>\n",
       "      <td>0.000000e+00</td>\n",
       "    </tr>\n",
       "    <tr>\n",
       "      <th>hospital_death</th>\n",
       "      <td>0.000000e+00</td>\n",
       "      <td>0.000000e+00</td>\n",
       "      <td>0.000000e+00</td>\n",
       "      <td>0.000000e+00</td>\n",
       "      <td>0.000000e+00</td>\n",
       "    </tr>\n",
       "  </tbody>\n",
       "</table>\n",
       "</div>"
      ],
      "text/plain": [
       "                                                        0              1  \\\n",
       "ethnicity_Caucasian                          1.000000e+00   1.000000e+00   \n",
       "ethnicity_Other                              0.000000e+00   0.000000e+00   \n",
       "gender_M                                     1.000000e+00   0.000000e+00   \n",
       "icu_admit_source_Floor                       1.000000e+00   1.000000e+00   \n",
       "icu_admit_source_Operating Room / Recovery   0.000000e+00   0.000000e+00   \n",
       "icu_admit_source_Other                       0.000000e+00   0.000000e+00   \n",
       "icu_stay_type_readmit                        0.000000e+00   0.000000e+00   \n",
       "icu_stay_type_transfer                       0.000000e+00   0.000000e+00   \n",
       "icu_type_CSICU                               0.000000e+00   0.000000e+00   \n",
       "icu_type_CTICU                               1.000000e+00   0.000000e+00   \n",
       "icu_type_Cardiac ICU                         0.000000e+00   0.000000e+00   \n",
       "icu_type_MICU                                0.000000e+00   0.000000e+00   \n",
       "icu_type_Med-Surg ICU                        0.000000e+00   1.000000e+00   \n",
       "icu_type_Neuro ICU                           0.000000e+00   0.000000e+00   \n",
       "icu_type_SICU                                0.000000e+00   0.000000e+00   \n",
       "apache_3j_bodysystem_Gastrointestinal        0.000000e+00   0.000000e+00   \n",
       "apache_3j_bodysystem_Metabolic               0.000000e+00   0.000000e+00   \n",
       "apache_3j_bodysystem_Neurological            0.000000e+00   0.000000e+00   \n",
       "apache_3j_bodysystem_Other                   0.000000e+00   0.000000e+00   \n",
       "apache_3j_bodysystem_Respiratory             0.000000e+00   1.000000e+00   \n",
       "apache_3j_bodysystem_Sepsis                  1.000000e+00   0.000000e+00   \n",
       "apache_3j_bodysystem_Trauma                  0.000000e+00   0.000000e+00   \n",
       "apache_2_bodysystem_Gastrointestinal         0.000000e+00   0.000000e+00   \n",
       "apache_2_bodysystem_Haematologic             0.000000e+00   0.000000e+00   \n",
       "apache_2_bodysystem_Metabolic                0.000000e+00   0.000000e+00   \n",
       "apache_2_bodysystem_Neurologic               0.000000e+00   0.000000e+00   \n",
       "apache_2_bodysystem_Other                    0.000000e+00   0.000000e+00   \n",
       "apache_2_bodysystem_Respiratory              0.000000e+00   1.000000e+00   \n",
       "apache_2_bodysystem_Trauma                   0.000000e+00   0.000000e+00   \n",
       "apache_2_bodysystem_Undefined Diagnoses      0.000000e+00   0.000000e+00   \n",
       "age                                          1.017138e+03   1.263861e+03   \n",
       "bmi                                          1.518835e+00   1.550026e+00   \n",
       "height                                       2.308226e+03   1.913955e+03   \n",
       "pre_icu_los_days                             2.743814e-01   3.391312e-01   \n",
       "weight                                       3.183834e+00   3.157097e+00   \n",
       "apache_2_diagnosis                           9.628277e-01   9.624796e-01   \n",
       "apache_3j_diagnosis                          1.463029e+01   1.092324e+01   \n",
       "gcs_eyes_apache                              2.895626e+02   7.211127e+00   \n",
       "gcs_motor_apache                             1.085600e+05   2.214197e+03   \n",
       "gcs_verbal_apache                            5.145523e+01   2.522575e+00   \n",
       "heart_rate_apache                            2.886964e+02   2.946889e+02   \n",
       "map_apache                                   1.672571e+00   1.692661e+00   \n",
       "resprate_apache                              1.016513e+01   9.661543e+00   \n",
       "temp_apache                                  7.904530e+06   4.703652e+06   \n",
       "d1_diasbp_max                                3.540559e+00   3.765615e+00   \n",
       "d1_diasbp_min                                3.068569e+01   2.598981e+01   \n",
       "d1_diasbp_noninvasive_max                    3.575465e+00   3.805452e+00   \n",
       "d1_diasbp_noninvasive_min                    3.147526e+01   2.661933e+01   \n",
       "d1_heartrate_max                             5.056599e+00   5.047274e+00   \n",
       "d1_heartrate_min                             1.176011e+02   1.176011e+02   \n",
       "d1_mbp_max                                   2.669660e+00   2.759557e+00   \n",
       "d1_mbp_min                                   2.563067e+01   2.192166e+01   \n",
       "d1_mbp_noninvasive_max                       2.899789e+00   3.010287e+00   \n",
       "d1_mbp_noninvasive_min                       2.638038e+01   2.252425e+01   \n",
       "d1_resprate_max                              1.113609e+00   1.110722e+00   \n",
       "d1_resprate_min                              1.025593e+01   1.233393e+01   \n",
       "d1_spo2_max                                 1.240591e+152  1.240591e+152   \n",
       "d1_spo2_min                                  5.084960e+11   3.525411e+11   \n",
       "d1_sysbp_max                                 4.599576e+00   4.769666e+00   \n",
       "d1_sysbp_min                                 3.004508e+01   2.817207e+01   \n",
       "d1_sysbp_noninvasive_max                     4.635458e+00   4.808318e+00   \n",
       "d1_sysbp_noninvasive_min                     3.029118e+01   2.839722e+01   \n",
       "d1_temp_max                                  1.182001e-01   1.182001e-01   \n",
       "d1_temp_min                                  1.353261e+35   3.672234e+34   \n",
       "h1_diasbp_max                                5.000893e+00   4.853572e+00   \n",
       "h1_diasbp_min                                2.093424e+01   1.739042e+01   \n",
       "h1_diasbp_noninvasive_max                    5.184392e+00   5.026836e+00   \n",
       "h1_diasbp_noninvasive_min                    2.285780e+01   1.885799e+01   \n",
       "h1_heartrate_max                             6.736411e+00   6.655271e+00   \n",
       "h1_heartrate_min                             1.481902e+01   1.427417e+01   \n",
       "h1_mbp_max                                   4.341154e+00   4.330232e+00   \n",
       "h1_mbp_min                                   2.142676e+01   1.666633e+01   \n",
       "h1_mbp_noninvasive_max                       4.747393e+00   4.734347e+00   \n",
       "h1_mbp_noninvasive_min                       2.339513e+01   1.802632e+01   \n",
       "h1_resprate_max                              1.846569e+00   1.891497e+00   \n",
       "h1_resprate_min                              8.244826e+00   1.115494e+01   \n",
       "h1_spo2_max                                  8.147096e+51   2.109779e+51   \n",
       "h1_spo2_min                                  7.000527e+18   5.256989e+18   \n",
       "h1_sysbp_max                                 5.229219e+00   4.866142e+00   \n",
       "h1_sysbp_min                                 2.302915e+01   1.729503e+01   \n",
       "h1_sysbp_noninvasive_max                     5.152258e+00   4.799249e+00   \n",
       "h1_sysbp_noninvasive_min                     2.468175e+01   1.838046e+01   \n",
       "d1_glucose_max                               1.474797e+00   1.469449e+00   \n",
       "d1_glucose_min                               5.880815e+00   6.128171e+00   \n",
       "d1_potassium_max                             7.106609e-01   7.161720e-01   \n",
       "d1_potassium_min                             2.009667e+00   2.168006e+00   \n",
       "apache_4a_hospital_death_prob                6.740057e-02   1.225837e-01   \n",
       "apache_4a_icu_death_prob                     3.642289e-02   7.600234e-02   \n",
       "elective_surgery                             0.000000e+00   0.000000e+00   \n",
       "apache_post_operative                        0.000000e+00   0.000000e+00   \n",
       "arf_apache                                   0.000000e+00   0.000000e+00   \n",
       "gcs_unable_apache                            0.000000e+00   0.000000e+00   \n",
       "intubated_apache                             0.000000e+00   0.000000e+00   \n",
       "ventilated_apache                            0.000000e+00   1.000000e+00   \n",
       "aids                                         0.000000e+00   0.000000e+00   \n",
       "cirrhosis                                    0.000000e+00   0.000000e+00   \n",
       "diabetes_mellitus                            1.000000e+00   1.000000e+00   \n",
       "hepatic_failure                              0.000000e+00   0.000000e+00   \n",
       "immunosuppression                            0.000000e+00   0.000000e+00   \n",
       "leukemia                                     0.000000e+00   0.000000e+00   \n",
       "lymphoma                                     0.000000e+00   0.000000e+00   \n",
       "solid_tumor_with_metastasis                  0.000000e+00   0.000000e+00   \n",
       "hospital_death                               0.000000e+00   0.000000e+00   \n",
       "\n",
       "                                                        2              3  \\\n",
       "ethnicity_Caucasian                          1.000000e+00   1.000000e+00   \n",
       "ethnicity_Other                              0.000000e+00   0.000000e+00   \n",
       "gender_M                                     0.000000e+00   0.000000e+00   \n",
       "icu_admit_source_Floor                       0.000000e+00   0.000000e+00   \n",
       "icu_admit_source_Operating Room / Recovery   0.000000e+00   1.000000e+00   \n",
       "icu_admit_source_Other                       0.000000e+00   0.000000e+00   \n",
       "icu_stay_type_readmit                        0.000000e+00   0.000000e+00   \n",
       "icu_stay_type_transfer                       0.000000e+00   0.000000e+00   \n",
       "icu_type_CSICU                               0.000000e+00   0.000000e+00   \n",
       "icu_type_CTICU                               0.000000e+00   1.000000e+00   \n",
       "icu_type_Cardiac ICU                         0.000000e+00   0.000000e+00   \n",
       "icu_type_MICU                                0.000000e+00   0.000000e+00   \n",
       "icu_type_Med-Surg ICU                        1.000000e+00   0.000000e+00   \n",
       "icu_type_Neuro ICU                           0.000000e+00   0.000000e+00   \n",
       "icu_type_SICU                                0.000000e+00   0.000000e+00   \n",
       "apache_3j_bodysystem_Gastrointestinal        0.000000e+00   0.000000e+00   \n",
       "apache_3j_bodysystem_Metabolic               1.000000e+00   0.000000e+00   \n",
       "apache_3j_bodysystem_Neurological            0.000000e+00   0.000000e+00   \n",
       "apache_3j_bodysystem_Other                   0.000000e+00   0.000000e+00   \n",
       "apache_3j_bodysystem_Respiratory             0.000000e+00   0.000000e+00   \n",
       "apache_3j_bodysystem_Sepsis                  0.000000e+00   0.000000e+00   \n",
       "apache_3j_bodysystem_Trauma                  0.000000e+00   0.000000e+00   \n",
       "apache_2_bodysystem_Gastrointestinal         0.000000e+00   0.000000e+00   \n",
       "apache_2_bodysystem_Haematologic             0.000000e+00   0.000000e+00   \n",
       "apache_2_bodysystem_Metabolic                1.000000e+00   0.000000e+00   \n",
       "apache_2_bodysystem_Neurologic               0.000000e+00   0.000000e+00   \n",
       "apache_2_bodysystem_Other                    0.000000e+00   0.000000e+00   \n",
       "apache_2_bodysystem_Respiratory              0.000000e+00   0.000000e+00   \n",
       "apache_2_bodysystem_Trauma                   0.000000e+00   0.000000e+00   \n",
       "apache_2_bodysystem_Undefined Diagnoses      0.000000e+00   0.000000e+00   \n",
       "age                                          1.802108e+02   1.380925e+03   \n",
       "bmi                                          1.573436e+00   1.518145e+00   \n",
       "height                                       2.157463e+03   2.010459e+03   \n",
       "pre_icu_los_days                             6.936503e-04   6.936503e-04   \n",
       "weight                                       3.313527e+00   3.089107e+00   \n",
       "apache_2_diagnosis                           9.633820e-01   9.661466e-01   \n",
       "apache_3j_diagnosis                          1.623441e+01   1.909835e+01   \n",
       "gcs_eyes_apache                              2.895626e+02   9.434125e+02   \n",
       "gcs_motor_apache                             1.085600e+05   1.085600e+05   \n",
       "gcs_verbal_apache                            9.194289e+01   9.194289e+01   \n",
       "heart_rate_apache                            2.416128e+02   2.767809e+02   \n",
       "map_apache                                   1.742229e+00   1.727358e+00   \n",
       "resprate_apache                              1.032843e+01   2.472099e+00   \n",
       "temp_apache                                  5.771217e+06   4.522115e+06   \n",
       "d1_diasbp_max                                3.714589e+00   3.342572e+00   \n",
       "d1_diasbp_min                                3.916760e+01   3.455957e+01   \n",
       "d1_diasbp_noninvasive_max                    3.753275e+00   3.373445e+00   \n",
       "d1_diasbp_noninvasive_min                    4.026412e+01   3.548671e+01   \n",
       "d1_heartrate_max                             4.820028e+00   5.028391e+00   \n",
       "d1_heartrate_min                             1.102026e+02   1.554262e+02   \n",
       "d1_mbp_max                                   2.711485e+00   2.651500e+00   \n",
       "d1_mbp_min                                   3.523601e+01   4.182157e+01   \n",
       "d1_mbp_noninvasive_max                       2.951019e+00   2.877639e+00   \n",
       "d1_mbp_noninvasive_min                       3.639703e+01   4.328518e+01   \n",
       "d1_resprate_max                              1.086341e+00   1.092308e+00   \n",
       "d1_resprate_min                              8.183769e+00   7.150263e+00   \n",
       "d1_spo2_max                                 2.668857e+151  1.240591e+152   \n",
       "d1_spo2_min                                  1.991857e+12   2.647190e+12   \n",
       "d1_sysbp_max                                 4.706782e+00   4.764135e+00   \n",
       "d1_sysbp_min                                 3.942440e+01   3.337510e+01   \n",
       "d1_sysbp_noninvasive_max                     4.744398e+00   4.802696e+00   \n",
       "d1_sysbp_noninvasive_min                     3.978106e+01   3.365942e+01   \n",
       "d1_temp_max                                  1.182001e-01   1.182001e-01   \n",
       "d1_temp_min                                  9.985933e+34   3.029210e+34   \n",
       "h1_diasbp_max                                5.356319e+00   4.875531e+00   \n",
       "h1_diasbp_min                                1.978978e+01   1.638232e+01   \n",
       "h1_diasbp_noninvasive_max                    5.565617e+00   5.343705e+00   \n",
       "h1_diasbp_noninvasive_min                    2.156261e+01   2.033885e+01   \n",
       "h1_heartrate_max                             6.335376e+00   6.410651e+00   \n",
       "h1_heartrate_min                             1.263300e+01   1.399238e+01   \n",
       "h1_mbp_max                                   4.393923e+00   4.404128e+00   \n",
       "h1_mbp_min                                   2.111055e+01   1.914331e+01   \n",
       "h1_mbp_noninvasive_max                       4.810510e+00   4.775588e+00   \n",
       "h1_mbp_noninvasive_min                       2.303673e+01   1.944848e+01   \n",
       "h1_resprate_max                              1.774354e+00   1.615066e+00   \n",
       "h1_resprate_min                              7.596166e+00   5.827667e+00   \n",
       "h1_spo2_max                                  4.784747e+51   8.147096e+51   \n",
       "h1_spo2_min                                  6.100707e+19   1.476136e+20   \n",
       "h1_sysbp_max                                 5.368183e+00   5.271817e+00   \n",
       "h1_sysbp_min                                 2.407186e+01   2.194936e+01   \n",
       "h1_sysbp_noninvasive_max                     5.287193e+00   5.033324e+00   \n",
       "h1_sysbp_noninvasive_min                     2.583395e+01   2.208714e+01   \n",
       "d1_glucose_max                               1.462979e+00   1.478033e+00   \n",
       "d1_glucose_min                               5.815112e+00   5.557503e+00   \n",
       "d1_potassium_max                             7.226742e-01   7.342093e-01   \n",
       "d1_potassium_min                             2.362293e+00   2.050045e+00   \n",
       "apache_4a_hospital_death_prob                0.000000e+00   3.382384e-02   \n",
       "apache_4a_icu_death_prob                     0.000000e+00   2.466838e-02   \n",
       "elective_surgery                             0.000000e+00   1.000000e+00   \n",
       "apache_post_operative                        0.000000e+00   1.000000e+00   \n",
       "arf_apache                                   0.000000e+00   0.000000e+00   \n",
       "gcs_unable_apache                            0.000000e+00   0.000000e+00   \n",
       "intubated_apache                             0.000000e+00   1.000000e+00   \n",
       "ventilated_apache                            0.000000e+00   1.000000e+00   \n",
       "aids                                         0.000000e+00   0.000000e+00   \n",
       "cirrhosis                                    0.000000e+00   0.000000e+00   \n",
       "diabetes_mellitus                            0.000000e+00   0.000000e+00   \n",
       "hepatic_failure                              0.000000e+00   0.000000e+00   \n",
       "immunosuppression                            0.000000e+00   0.000000e+00   \n",
       "leukemia                                     0.000000e+00   0.000000e+00   \n",
       "lymphoma                                     0.000000e+00   0.000000e+00   \n",
       "solid_tumor_with_metastasis                  0.000000e+00   0.000000e+00   \n",
       "hospital_death                               0.000000e+00   0.000000e+00   \n",
       "\n",
       "                                                        4  \n",
       "ethnicity_Caucasian                          1.000000e+00  \n",
       "ethnicity_Other                              0.000000e+00  \n",
       "gender_M                                     1.000000e+00  \n",
       "icu_admit_source_Floor                       0.000000e+00  \n",
       "icu_admit_source_Operating Room / Recovery   0.000000e+00  \n",
       "icu_admit_source_Other                       0.000000e+00  \n",
       "icu_stay_type_readmit                        0.000000e+00  \n",
       "icu_stay_type_transfer                       0.000000e+00  \n",
       "icu_type_CSICU                               0.000000e+00  \n",
       "icu_type_CTICU                               0.000000e+00  \n",
       "icu_type_Cardiac ICU                         0.000000e+00  \n",
       "icu_type_MICU                                0.000000e+00  \n",
       "icu_type_Med-Surg ICU                        1.000000e+00  \n",
       "icu_type_Neuro ICU                           0.000000e+00  \n",
       "icu_type_SICU                                0.000000e+00  \n",
       "apache_3j_bodysystem_Gastrointestinal        0.000000e+00  \n",
       "apache_3j_bodysystem_Metabolic               0.000000e+00  \n",
       "apache_3j_bodysystem_Neurological            0.000000e+00  \n",
       "apache_3j_bodysystem_Other                   0.000000e+00  \n",
       "apache_3j_bodysystem_Respiratory             0.000000e+00  \n",
       "apache_3j_bodysystem_Sepsis                  0.000000e+00  \n",
       "apache_3j_bodysystem_Trauma                  1.000000e+00  \n",
       "apache_2_bodysystem_Gastrointestinal         0.000000e+00  \n",
       "apache_2_bodysystem_Haematologic             0.000000e+00  \n",
       "apache_2_bodysystem_Metabolic                0.000000e+00  \n",
       "apache_2_bodysystem_Neurologic               0.000000e+00  \n",
       "apache_2_bodysystem_Other                    0.000000e+00  \n",
       "apache_2_bodysystem_Respiratory              0.000000e+00  \n",
       "apache_2_bodysystem_Trauma                   1.000000e+00  \n",
       "apache_2_bodysystem_Undefined Diagnoses      0.000000e+00  \n",
       "age                                          1.232911e+02  \n",
       "bmi                                          1.524220e+00  \n",
       "height                                       2.464736e+03  \n",
       "pre_icu_los_days                             6.554114e-02  \n",
       "weight                                       3.062357e+00  \n",
       "apache_2_diagnosis                           9.632066e-01  \n",
       "apache_3j_diagnosis                          1.547107e+01  \n",
       "gcs_eyes_apache                              4.795882e+02  \n",
       "gcs_motor_apache                             8.873756e+04  \n",
       "gcs_verbal_apache                            2.521039e+01  \n",
       "heart_rate_apache                            1.265147e+02  \n",
       "map_apache                                   1.785548e+00  \n",
       "resprate_apache                              6.246031e+00  \n",
       "temp_apache                                  5.771217e+06  \n",
       "d1_diasbp_max                                3.792987e+00  \n",
       "d1_diasbp_min                                4.600828e+01  \n",
       "d1_diasbp_noninvasive_max                    3.833450e+00  \n",
       "d1_diasbp_noninvasive_min                    4.736631e+01  \n",
       "d1_heartrate_max                             4.737023e+00  \n",
       "d1_heartrate_min                             9.559364e+01  \n",
       "d1_mbp_max                                   2.717330e+00  \n",
       "d1_mbp_min                                   4.422368e+01  \n",
       "d1_mbp_noninvasive_max                       2.958202e+00  \n",
       "d1_mbp_noninvasive_min                       4.580120e+01  \n",
       "d1_resprate_max                              1.075228e+00  \n",
       "d1_resprate_min                              1.650414e+01  \n",
       "d1_spo2_max                                 1.240591e+152  \n",
       "d1_spo2_min                                  2.837021e+12  \n",
       "d1_sysbp_max                                 4.700832e+00  \n",
       "d1_sysbp_min                                 4.354441e+01  \n",
       "d1_sysbp_noninvasive_max                     4.738350e+00  \n",
       "d1_sysbp_noninvasive_min                     4.395224e+01  \n",
       "d1_temp_max                                  1.182001e-01  \n",
       "d1_temp_min                                  9.985933e+34  \n",
       "h1_diasbp_max                                5.521373e+00  \n",
       "h1_diasbp_min                                2.204710e+01  \n",
       "h1_diasbp_noninvasive_max                    5.743179e+00  \n",
       "h1_diasbp_noninvasive_min                    2.412019e+01  \n",
       "h1_heartrate_max                             6.196934e+00  \n",
       "h1_heartrate_min                             1.247132e+01  \n",
       "h1_mbp_max                                   4.518586e+00  \n",
       "h1_mbp_min                                   2.251016e+01  \n",
       "h1_mbp_noninvasive_max                       4.960180e+00  \n",
       "h1_mbp_noninvasive_min                       2.462489e+01  \n",
       "h1_resprate_max                              1.806327e+00  \n",
       "h1_resprate_min                              8.496766e+00  \n",
       "h1_spo2_max                                  8.147096e+51  \n",
       "h1_spo2_min                                  1.640290e+20  \n",
       "h1_sysbp_max                                 5.220511e+00  \n",
       "h1_sysbp_min                                 2.361275e+01  \n",
       "h1_sysbp_noninvasive_max                     5.143800e+00  \n",
       "h1_sysbp_noninvasive_min                     2.532641e+01  \n",
       "d1_glucose_max                               1.467535e+00  \n",
       "d1_glucose_min                               5.767852e+00  \n",
       "d1_potassium_max                             7.272295e-01  \n",
       "d1_potassium_min                             2.281569e+00  \n",
       "apache_4a_hospital_death_prob                9.233076e-02  \n",
       "apache_4a_icu_death_prob                     5.486695e-02  \n",
       "elective_surgery                             0.000000e+00  \n",
       "apache_post_operative                        0.000000e+00  \n",
       "arf_apache                                   0.000000e+00  \n",
       "gcs_unable_apache                            0.000000e+00  \n",
       "intubated_apache                             0.000000e+00  \n",
       "ventilated_apache                            0.000000e+00  \n",
       "aids                                         0.000000e+00  \n",
       "cirrhosis                                    0.000000e+00  \n",
       "diabetes_mellitus                            0.000000e+00  \n",
       "hepatic_failure                              0.000000e+00  \n",
       "immunosuppression                            0.000000e+00  \n",
       "leukemia                                     0.000000e+00  \n",
       "lymphoma                                     0.000000e+00  \n",
       "solid_tumor_with_metastasis                  0.000000e+00  \n",
       "hospital_death                               0.000000e+00  "
      ]
     },
     "execution_count": 177,
     "metadata": {},
     "output_type": "execute_result"
    }
   ],
   "source": [
    "data=pd.read_csv('final_df_.csv')\n",
    "data.head().T"
   ]
  },
  {
   "cell_type": "code",
   "execution_count": 178,
   "id": "6b3314f3",
   "metadata": {
    "scrolled": false
   },
   "outputs": [
    {
     "data": {
      "text/plain": [
       "(91713, 103)"
      ]
     },
     "execution_count": 178,
     "metadata": {},
     "output_type": "execute_result"
    }
   ],
   "source": [
    "data.shape"
   ]
  },
  {
   "cell_type": "code",
   "execution_count": 179,
   "id": "46c39c48",
   "metadata": {},
   "outputs": [
    {
     "name": "stdout",
     "output_type": "stream",
     "text": [
      "<class 'pandas.core.frame.DataFrame'>\n",
      "RangeIndex: 91713 entries, 0 to 91712\n",
      "Columns: 103 entries, ethnicity_Caucasian to hospital_death\n",
      "dtypes: float64(70), int64(33)\n",
      "memory usage: 72.1 MB\n"
     ]
    }
   ],
   "source": [
    "data.info()"
   ]
  },
  {
   "cell_type": "code",
   "execution_count": 180,
   "id": "39ddd129",
   "metadata": {},
   "outputs": [
    {
     "data": {
      "text/plain": [
       "Index(['ethnicity_Caucasian', 'ethnicity_Other', 'gender_M',\n",
       "       'icu_admit_source_Floor', 'icu_admit_source_Operating Room / Recovery',\n",
       "       'icu_admit_source_Other', 'icu_stay_type_readmit',\n",
       "       'icu_stay_type_transfer', 'icu_type_CSICU', 'icu_type_CTICU',\n",
       "       ...\n",
       "       'ventilated_apache', 'aids', 'cirrhosis', 'diabetes_mellitus',\n",
       "       'hepatic_failure', 'immunosuppression', 'leukemia', 'lymphoma',\n",
       "       'solid_tumor_with_metastasis', 'hospital_death'],\n",
       "      dtype='object', length=103)"
      ]
     },
     "execution_count": 180,
     "metadata": {},
     "output_type": "execute_result"
    }
   ],
   "source": [
    "data.columns"
   ]
  },
  {
   "cell_type": "code",
   "execution_count": 181,
   "id": "929b0522",
   "metadata": {},
   "outputs": [
    {
     "name": "stdout",
     "output_type": "stream",
     "text": [
      "<class 'pandas.core.frame.DataFrame'>\n",
      "RangeIndex: 91713 entries, 0 to 91712\n",
      "Data columns (total 58 columns):\n",
      " #   Column                         Non-Null Count  Dtype  \n",
      "---  ------                         --------------  -----  \n",
      " 0   age                            91713 non-null  float64\n",
      " 1   bmi                            91713 non-null  float64\n",
      " 2   height                         91713 non-null  float64\n",
      " 3   pre_icu_los_days               91713 non-null  float64\n",
      " 4   weight                         91713 non-null  float64\n",
      " 5   apache_2_diagnosis             91713 non-null  float64\n",
      " 6   apache_3j_diagnosis            91713 non-null  float64\n",
      " 7   gcs_eyes_apache                91713 non-null  float64\n",
      " 8   gcs_motor_apache               91713 non-null  float64\n",
      " 9   gcs_verbal_apache              91713 non-null  float64\n",
      " 10  heart_rate_apache              91713 non-null  float64\n",
      " 11  map_apache                     91713 non-null  float64\n",
      " 12  resprate_apache                91713 non-null  float64\n",
      " 13  temp_apache                    91713 non-null  float64\n",
      " 14  d1_diasbp_max                  91713 non-null  float64\n",
      " 15  d1_diasbp_min                  91713 non-null  float64\n",
      " 16  d1_diasbp_noninvasive_max      91713 non-null  float64\n",
      " 17  d1_diasbp_noninvasive_min      91713 non-null  float64\n",
      " 18  d1_heartrate_max               91713 non-null  float64\n",
      " 19  d1_heartrate_min               91713 non-null  float64\n",
      " 20  d1_mbp_max                     91713 non-null  float64\n",
      " 21  d1_mbp_min                     91713 non-null  float64\n",
      " 22  d1_mbp_noninvasive_max         91713 non-null  float64\n",
      " 23  d1_mbp_noninvasive_min         91713 non-null  float64\n",
      " 24  d1_resprate_max                91713 non-null  float64\n",
      " 25  d1_resprate_min                91713 non-null  float64\n",
      " 26  d1_spo2_max                    91713 non-null  float64\n",
      " 27  d1_spo2_min                    91713 non-null  float64\n",
      " 28  d1_sysbp_max                   91713 non-null  float64\n",
      " 29  d1_sysbp_min                   91713 non-null  float64\n",
      " 30  d1_sysbp_noninvasive_max       91713 non-null  float64\n",
      " 31  d1_sysbp_noninvasive_min       91713 non-null  float64\n",
      " 32  d1_temp_max                    91713 non-null  float64\n",
      " 33  d1_temp_min                    91713 non-null  float64\n",
      " 34  h1_diasbp_max                  91713 non-null  float64\n",
      " 35  h1_diasbp_min                  91713 non-null  float64\n",
      " 36  h1_diasbp_noninvasive_max      91713 non-null  float64\n",
      " 37  h1_diasbp_noninvasive_min      91713 non-null  float64\n",
      " 38  h1_heartrate_max               91713 non-null  float64\n",
      " 39  h1_heartrate_min               91713 non-null  float64\n",
      " 40  h1_mbp_max                     91713 non-null  float64\n",
      " 41  h1_mbp_min                     91713 non-null  float64\n",
      " 42  h1_mbp_noninvasive_max         91713 non-null  float64\n",
      " 43  h1_mbp_noninvasive_min         91713 non-null  float64\n",
      " 44  h1_resprate_max                91713 non-null  float64\n",
      " 45  h1_resprate_min                91713 non-null  float64\n",
      " 46  h1_spo2_max                    91713 non-null  float64\n",
      " 47  h1_spo2_min                    91713 non-null  float64\n",
      " 48  h1_sysbp_max                   91713 non-null  float64\n",
      " 49  h1_sysbp_min                   91713 non-null  float64\n",
      " 50  h1_sysbp_noninvasive_max       91713 non-null  float64\n",
      " 51  h1_sysbp_noninvasive_min       91713 non-null  float64\n",
      " 52  d1_glucose_max                 91713 non-null  float64\n",
      " 53  d1_glucose_min                 91713 non-null  float64\n",
      " 54  d1_potassium_max               91713 non-null  float64\n",
      " 55  d1_potassium_min               91713 non-null  float64\n",
      " 56  apache_4a_hospital_death_prob  91713 non-null  float64\n",
      " 57  apache_4a_icu_death_prob       91713 non-null  float64\n",
      "dtypes: float64(58)\n",
      "memory usage: 40.6 MB\n"
     ]
    }
   ],
   "source": [
    "data_no=pd.DataFrame()\n",
    "for i in data.columns:\n",
    "    if data[i].nunique()>2:\n",
    "        data_no[i]=data[i]\n",
    "data_no.info()"
   ]
  },
  {
   "cell_type": "markdown",
   "id": "77bfbbb5",
   "metadata": {},
   "source": [
    "### Scaling"
   ]
  },
  {
   "cell_type": "code",
   "execution_count": 182,
   "id": "a8f26f8c",
   "metadata": {},
   "outputs": [],
   "source": [
    "from sklearn.preprocessing import StandardScaler\n",
    "scaler=StandardScaler()\n",
    "data_no=pd.DataFrame(scaler.fit_transform(data_no),columns=data_no.columns)"
   ]
  },
  {
   "cell_type": "markdown",
   "id": "d577740e",
   "metadata": {},
   "source": [
    "#### binary column"
   ]
  },
  {
   "cell_type": "code",
   "execution_count": 183,
   "id": "edefa5e9",
   "metadata": {},
   "outputs": [
    {
     "name": "stdout",
     "output_type": "stream",
     "text": [
      "<class 'pandas.core.frame.DataFrame'>\n",
      "RangeIndex: 91713 entries, 0 to 91712\n",
      "Data columns (total 39 columns):\n",
      " #   Column                                      Non-Null Count  Dtype  \n",
      "---  ------                                      --------------  -----  \n",
      " 0   ethnicity_Caucasian                         91713 non-null  int64  \n",
      " 1   ethnicity_Other                             91713 non-null  int64  \n",
      " 2   gender_M                                    91713 non-null  int64  \n",
      " 3   icu_admit_source_Floor                      91713 non-null  int64  \n",
      " 4   icu_admit_source_Operating Room / Recovery  91713 non-null  int64  \n",
      " 5   icu_admit_source_Other                      91713 non-null  int64  \n",
      " 6   icu_stay_type_transfer                      91713 non-null  int64  \n",
      " 7   icu_type_CSICU                              91713 non-null  int64  \n",
      " 8   icu_type_CTICU                              91713 non-null  int64  \n",
      " 9   icu_type_Cardiac ICU                        91713 non-null  int64  \n",
      " 10  icu_type_MICU                               91713 non-null  int64  \n",
      " 11  icu_type_Med-Surg ICU                       91713 non-null  int64  \n",
      " 12  icu_type_Neuro ICU                          91713 non-null  int64  \n",
      " 13  icu_type_SICU                               91713 non-null  int64  \n",
      " 14  apache_3j_bodysystem_Gastrointestinal       91713 non-null  int64  \n",
      " 15  apache_3j_bodysystem_Metabolic              91713 non-null  int64  \n",
      " 16  apache_3j_bodysystem_Neurological           91713 non-null  int64  \n",
      " 17  apache_3j_bodysystem_Other                  91713 non-null  int64  \n",
      " 18  apache_3j_bodysystem_Respiratory            91713 non-null  int64  \n",
      " 19  apache_3j_bodysystem_Sepsis                 91713 non-null  int64  \n",
      " 20  apache_3j_bodysystem_Trauma                 91713 non-null  int64  \n",
      " 21  apache_2_bodysystem_Gastrointestinal        91713 non-null  int64  \n",
      " 22  apache_2_bodysystem_Metabolic               91713 non-null  int64  \n",
      " 23  apache_2_bodysystem_Neurologic              91713 non-null  int64  \n",
      " 24  apache_2_bodysystem_Other                   91713 non-null  int64  \n",
      " 25  apache_2_bodysystem_Respiratory             91713 non-null  int64  \n",
      " 26  apache_2_bodysystem_Trauma                  91713 non-null  int64  \n",
      " 27  apache_2_bodysystem_Undefined Diagnoses     91713 non-null  int64  \n",
      " 28  elective_surgery                            91713 non-null  int64  \n",
      " 29  apache_post_operative                       91713 non-null  int64  \n",
      " 30  arf_apache                                  91713 non-null  float64\n",
      " 31  intubated_apache                            91713 non-null  float64\n",
      " 32  ventilated_apache                           91713 non-null  float64\n",
      " 33  cirrhosis                                   91713 non-null  float64\n",
      " 34  diabetes_mellitus                           91713 non-null  float64\n",
      " 35  hepatic_failure                             91713 non-null  float64\n",
      " 36  immunosuppression                           91713 non-null  float64\n",
      " 37  solid_tumor_with_metastasis                 91713 non-null  float64\n",
      " 38  hospital_death                              91713 non-null  int64  \n",
      "dtypes: float64(8), int64(31)\n",
      "memory usage: 27.3 MB\n"
     ]
    }
   ],
   "source": [
    "data_not_no=pd.DataFrame()\n",
    "for i in data.columns:\n",
    "    if data[i].nunique()==2:\n",
    "        data_not_no[i]=data[i]\n",
    "data_not_no.info()"
   ]
  },
  {
   "cell_type": "code",
   "execution_count": 184,
   "id": "b2f740b9",
   "metadata": {},
   "outputs": [],
   "source": [
    "from statsmodels.stats.outliers_influence import variance_inflation_factor\n",
    "\n",
    "def calculate_vif_(X, thresh=5):\n",
    "    X = X.assign(const=1)\n",
    "    variables = list(range(X.shape[1]))\n",
    "    dropped = True\n",
    "    while dropped:\n",
    "        dropped = False\n",
    "        vif = [variance_inflation_factor(X.iloc[:, variables].values, ix)\n",
    "               for ix in range(X.iloc[:, variables].shape[1])]\n",
    "        vif = vif[:-1]  # don't let the constant be removed in the loop.\n",
    "        maxloc = vif.index(max(vif))\n",
    "        if max(vif) > thresh:\n",
    "            print('dropping \\'' + X.iloc[:, variables].columns[maxloc] + '\\' at index: ' + str(maxloc))\n",
    "            del variables[maxloc]\n",
    "            dropped = True\n",
    "    print('Remaining variables:')\n",
    "    print(variables)\n",
    "    print(X.columns[variables[:-1]])\n",
    "    return X.iloc[:, variables[:-1]]"
   ]
  },
  {
   "cell_type": "code",
   "execution_count": null,
   "id": "0e51a6d8",
   "metadata": {
    "scrolled": false
   },
   "outputs": [
    {
     "name": "stdout",
     "output_type": "stream",
     "text": [
      "dropping 'd1_diasbp_noninvasive_min' at index: 17\n",
      "dropping 'd1_sysbp_noninvasive_min' at index: 30\n",
      "dropping 'd1_sysbp_noninvasive_max' at index: 29\n",
      "dropping 'd1_diasbp_noninvasive_max' at index: 16\n",
      "dropping 'd1_mbp_min' at index: 19\n",
      "dropping 'h1_mbp_noninvasive_min' at index: 38\n",
      "dropping 'h1_sysbp_noninvasive_max' at index: 44\n",
      "dropping 'weight' at index: 4\n",
      "dropping 'd1_mbp_max' at index: 17\n",
      "dropping 'h1_diasbp_min' at index: 28\n",
      "dropping 'h1_sysbp_min' at index: 40\n",
      "dropping 'h1_mbp_max' at index: 32\n",
      "dropping 'h1_diasbp_noninvasive_max' at index: 28\n",
      "dropping 'apache_4a_hospital_death_prob' at index: 43\n",
      "dropping 'h1_heartrate_max' at index: 29\n",
      "dropping 'h1_mbp_min' at index: 30\n",
      "dropping 'h1_mbp_noninvasive_max' at index: 30\n",
      "dropping 'd1_mbp_noninvasive_min' at index: 18\n",
      "dropping 'h1_sysbp_noninvasive_min' at index: 34\n",
      "Remaining variables:\n",
      "[0, 1, 2, 3, 5, 6, 7, 8, 9, 10, 11, 12, 13, 14, 15, 18, 19, 22, 24, 25, 26, 27, 28, 29, 32, 33, 34, 37, 39, 44, 45, 46, 47, 48, 52, 53, 54, 55, 57, 58]\n",
      "Index(['age', 'bmi', 'height', 'pre_icu_los_days', 'apache_2_diagnosis',\n",
      "       'apache_3j_diagnosis', 'gcs_eyes_apache', 'gcs_motor_apache',\n",
      "       'gcs_verbal_apache', 'heart_rate_apache', 'map_apache',\n",
      "       'resprate_apache', 'temp_apache', 'd1_diasbp_max', 'd1_diasbp_min',\n",
      "       'd1_heartrate_max', 'd1_heartrate_min', 'd1_mbp_noninvasive_max',\n",
      "       'd1_resprate_max', 'd1_resprate_min', 'd1_spo2_max', 'd1_spo2_min',\n",
      "       'd1_sysbp_max', 'd1_sysbp_min', 'd1_temp_max', 'd1_temp_min',\n",
      "       'h1_diasbp_max', 'h1_diasbp_noninvasive_min', 'h1_heartrate_min',\n",
      "       'h1_resprate_max', 'h1_resprate_min', 'h1_spo2_max', 'h1_spo2_min',\n",
      "       'h1_sysbp_max', 'd1_glucose_max', 'd1_glucose_min', 'd1_potassium_max',\n",
      "       'd1_potassium_min', 'apache_4a_icu_death_prob'],\n",
      "      dtype='object')\n"
     ]
    }
   ],
   "source": [
    "calculate_vif_(data_no,thresh=5) "
   ]
  },
  {
   "cell_type": "code",
   "execution_count": 189,
   "id": "fd44d85f",
   "metadata": {},
   "outputs": [],
   "source": [
    "df_num=data_no[['age', 'bmi', 'height', 'pre_icu_los_days', 'apache_2_diagnosis',\n",
    "       'apache_3j_diagnosis', 'gcs_eyes_apache', 'gcs_motor_apache',\n",
    "       'gcs_verbal_apache', 'heart_rate_apache', 'map_apache',\n",
    "       'resprate_apache', 'temp_apache', 'd1_diasbp_max', 'd1_diasbp_min',\n",
    "       'd1_heartrate_max', 'd1_heartrate_min', 'd1_mbp_noninvasive_max',\n",
    "       'd1_resprate_max', 'd1_resprate_min', 'd1_spo2_max', 'd1_spo2_min',\n",
    "       'd1_sysbp_max', 'd1_sysbp_min', 'd1_temp_max', 'd1_temp_min',\n",
    "       'h1_diasbp_max', 'h1_diasbp_noninvasive_min', 'h1_heartrate_min',\n",
    "       'h1_resprate_max', 'h1_resprate_min', 'h1_spo2_max', 'h1_spo2_min',\n",
    "       'h1_sysbp_max', 'd1_glucose_max', 'd1_glucose_min', 'd1_potassium_max',\n",
    "       'd1_potassium_min', 'apache_4a_icu_death_prob']]"
   ]
  },
  {
   "cell_type": "code",
   "execution_count": 190,
   "id": "6d445ce6",
   "metadata": {},
   "outputs": [
    {
     "data": {
      "text/plain": [
       "(91713, 39)"
      ]
     },
     "execution_count": 190,
     "metadata": {},
     "output_type": "execute_result"
    }
   ],
   "source": [
    "df_num.shape"
   ]
  },
  {
   "cell_type": "code",
   "execution_count": 191,
   "id": "777a4566",
   "metadata": {},
   "outputs": [
    {
     "name": "stdout",
     "output_type": "stream",
     "text": [
      "<class 'pandas.core.frame.DataFrame'>\n",
      "RangeIndex: 91713 entries, 0 to 91712\n",
      "Data columns (total 78 columns):\n",
      " #   Column                                      Non-Null Count  Dtype  \n",
      "---  ------                                      --------------  -----  \n",
      " 0   age                                         91713 non-null  float64\n",
      " 1   bmi                                         91713 non-null  float64\n",
      " 2   height                                      91713 non-null  float64\n",
      " 3   pre_icu_los_days                            91713 non-null  float64\n",
      " 4   apache_2_diagnosis                          91713 non-null  float64\n",
      " 5   apache_3j_diagnosis                         91713 non-null  float64\n",
      " 6   gcs_eyes_apache                             91713 non-null  float64\n",
      " 7   gcs_motor_apache                            91713 non-null  float64\n",
      " 8   gcs_verbal_apache                           91713 non-null  float64\n",
      " 9   heart_rate_apache                           91713 non-null  float64\n",
      " 10  map_apache                                  91713 non-null  float64\n",
      " 11  resprate_apache                             91713 non-null  float64\n",
      " 12  temp_apache                                 91713 non-null  float64\n",
      " 13  d1_diasbp_max                               91713 non-null  float64\n",
      " 14  d1_diasbp_min                               91713 non-null  float64\n",
      " 15  d1_heartrate_max                            91713 non-null  float64\n",
      " 16  d1_heartrate_min                            91713 non-null  float64\n",
      " 17  d1_mbp_noninvasive_max                      91713 non-null  float64\n",
      " 18  d1_resprate_max                             91713 non-null  float64\n",
      " 19  d1_resprate_min                             91713 non-null  float64\n",
      " 20  d1_spo2_max                                 91713 non-null  float64\n",
      " 21  d1_spo2_min                                 91713 non-null  float64\n",
      " 22  d1_sysbp_max                                91713 non-null  float64\n",
      " 23  d1_sysbp_min                                91713 non-null  float64\n",
      " 24  d1_temp_max                                 91713 non-null  float64\n",
      " 25  d1_temp_min                                 91713 non-null  float64\n",
      " 26  h1_diasbp_max                               91713 non-null  float64\n",
      " 27  h1_diasbp_noninvasive_min                   91713 non-null  float64\n",
      " 28  h1_heartrate_min                            91713 non-null  float64\n",
      " 29  h1_resprate_max                             91713 non-null  float64\n",
      " 30  h1_resprate_min                             91713 non-null  float64\n",
      " 31  h1_spo2_max                                 91713 non-null  float64\n",
      " 32  h1_spo2_min                                 91713 non-null  float64\n",
      " 33  h1_sysbp_max                                91713 non-null  float64\n",
      " 34  d1_glucose_max                              91713 non-null  float64\n",
      " 35  d1_glucose_min                              91713 non-null  float64\n",
      " 36  d1_potassium_max                            91713 non-null  float64\n",
      " 37  d1_potassium_min                            91713 non-null  float64\n",
      " 38  apache_4a_icu_death_prob                    91713 non-null  float64\n",
      " 39  ethnicity_Caucasian                         91713 non-null  int64  \n",
      " 40  ethnicity_Other                             91713 non-null  int64  \n",
      " 41  gender_M                                    91713 non-null  int64  \n",
      " 42  icu_admit_source_Floor                      91713 non-null  int64  \n",
      " 43  icu_admit_source_Operating Room / Recovery  91713 non-null  int64  \n",
      " 44  icu_admit_source_Other                      91713 non-null  int64  \n",
      " 45  icu_stay_type_transfer                      91713 non-null  int64  \n",
      " 46  icu_type_CSICU                              91713 non-null  int64  \n",
      " 47  icu_type_CTICU                              91713 non-null  int64  \n",
      " 48  icu_type_Cardiac ICU                        91713 non-null  int64  \n",
      " 49  icu_type_MICU                               91713 non-null  int64  \n",
      " 50  icu_type_Med-Surg ICU                       91713 non-null  int64  \n",
      " 51  icu_type_Neuro ICU                          91713 non-null  int64  \n",
      " 52  icu_type_SICU                               91713 non-null  int64  \n",
      " 53  apache_3j_bodysystem_Gastrointestinal       91713 non-null  int64  \n",
      " 54  apache_3j_bodysystem_Metabolic              91713 non-null  int64  \n",
      " 55  apache_3j_bodysystem_Neurological           91713 non-null  int64  \n",
      " 56  apache_3j_bodysystem_Other                  91713 non-null  int64  \n",
      " 57  apache_3j_bodysystem_Respiratory            91713 non-null  int64  \n",
      " 58  apache_3j_bodysystem_Sepsis                 91713 non-null  int64  \n",
      " 59  apache_3j_bodysystem_Trauma                 91713 non-null  int64  \n",
      " 60  apache_2_bodysystem_Gastrointestinal        91713 non-null  int64  \n",
      " 61  apache_2_bodysystem_Metabolic               91713 non-null  int64  \n",
      " 62  apache_2_bodysystem_Neurologic              91713 non-null  int64  \n",
      " 63  apache_2_bodysystem_Other                   91713 non-null  int64  \n",
      " 64  apache_2_bodysystem_Respiratory             91713 non-null  int64  \n",
      " 65  apache_2_bodysystem_Trauma                  91713 non-null  int64  \n",
      " 66  apache_2_bodysystem_Undefined Diagnoses     91713 non-null  int64  \n",
      " 67  elective_surgery                            91713 non-null  int64  \n",
      " 68  apache_post_operative                       91713 non-null  int64  \n",
      " 69  arf_apache                                  91713 non-null  float64\n",
      " 70  intubated_apache                            91713 non-null  float64\n",
      " 71  ventilated_apache                           91713 non-null  float64\n",
      " 72  cirrhosis                                   91713 non-null  float64\n",
      " 73  diabetes_mellitus                           91713 non-null  float64\n",
      " 74  hepatic_failure                             91713 non-null  float64\n",
      " 75  immunosuppression                           91713 non-null  float64\n",
      " 76  solid_tumor_with_metastasis                 91713 non-null  float64\n",
      " 77  hospital_death                              91713 non-null  int64  \n",
      "dtypes: float64(47), int64(31)\n",
      "memory usage: 54.6 MB\n"
     ]
    }
   ],
   "source": [
    "df=pd.concat([df_num,data_not_no],axis=1)\n",
    "df.info()"
   ]
  },
  {
   "cell_type": "code",
   "execution_count": 264,
   "id": "468faf4c",
   "metadata": {},
   "outputs": [],
   "source": [
    "X=df.drop(['hospital_death'],axis=1)\n",
    "y=df['hospital_death']"
   ]
  },
  {
   "cell_type": "code",
   "execution_count": 265,
   "id": "b2b77fef",
   "metadata": {},
   "outputs": [
    {
     "name": "stdout",
     "output_type": "stream",
     "text": [
      "(64199, 77)\n",
      "(27514, 77)\n",
      "(64199,)\n",
      "(27514,)\n"
     ]
    }
   ],
   "source": [
    "from sklearn.model_selection import train_test_split\n",
    "\n",
    "X_train,X_test,y_train,y_test=train_test_split(X,y,test_size=0.3,random_state=10)\n",
    "print(X_train.shape)\n",
    "print(X_test.shape)\n",
    "print(y_train.shape)\n",
    "print(y_test.shape)"
   ]
  },
  {
   "cell_type": "markdown",
   "id": "f6e01904",
   "metadata": {},
   "source": [
    "### Balancing"
   ]
  },
  {
   "cell_type": "code",
   "execution_count": 266,
   "id": "22a808f7",
   "metadata": {},
   "outputs": [
    {
     "data": {
      "text/plain": [
       "0    91.224162\n",
       "1     8.775838\n",
       "Name: hospital_death, dtype: float64"
      ]
     },
     "execution_count": 266,
     "metadata": {},
     "output_type": "execute_result"
    }
   ],
   "source": [
    "(y_train.value_counts()/len(y_train))*100"
   ]
  },
  {
   "cell_type": "code",
   "execution_count": 267,
   "id": "29605337",
   "metadata": {},
   "outputs": [],
   "source": [
    "from imblearn.over_sampling import SMOTE"
   ]
  },
  {
   "cell_type": "code",
   "execution_count": 268,
   "id": "aa5cd931",
   "metadata": {},
   "outputs": [
    {
     "data": {
      "text/plain": [
       "0    83.333333\n",
       "1    16.666667\n",
       "Name: hospital_death, dtype: float64"
      ]
     },
     "execution_count": 268,
     "metadata": {},
     "output_type": "execute_result"
    }
   ],
   "source": [
    "#Balancing\n",
    "smote=SMOTE(sampling_strategy=0.2)\n",
    "X_train,y_train=smote.fit_resample(X_train,y_train)\n",
    "(y_train.value_counts()/len(y_train))*100"
   ]
  },
  {
   "cell_type": "markdown",
   "id": "bf4af8b1",
   "metadata": {},
   "source": [
    "### Feature Selection"
   ]
  },
  {
   "cell_type": "code",
   "execution_count": 269,
   "id": "101f7fa7",
   "metadata": {},
   "outputs": [
    {
     "name": "stdout",
     "output_type": "stream",
     "text": [
      "Accuracy on test set with selected features: 0.9100457948680671\n"
     ]
    }
   ],
   "source": [
    "from sklearn.datasets import make_classification\n",
    "from sklearn.feature_selection import RFE\n",
    "from sklearn.linear_model import LogisticRegression\n",
    "from sklearn.metrics import accuracy_score\n",
    "\n",
    "# Generate synthetic dataset for demonstration\n",
    "#X, y = make_classification(n_samples=1000, n_features=20, n_classes=2, random_state=42)\n",
    "\n",
    "# Split the dataset into train and test sets\n",
    "#X_train, X_test, y_train, y_test = train_test_split(X, y, test_size=0.2, random_state=42)\n",
    "\n",
    "# Create a logistic regression model\n",
    "log_reg = LogisticRegression()\n",
    "\n",
    "# Initialize Recursive Feature Elimination (RFE) with logistic regression model\n",
    "rfe = RFE(estimator=log_reg, step=1)\n",
    "\n",
    "# Fit RFE to training data\n",
    "rfe.fit(X_train, y_train)\n",
    "\n",
    "# Get selected features\n",
    "selected_features = rfe.support_\n",
    "\n",
    "# Transform training and test sets to include only selected features\n",
    "X_train_selected = rfe.transform(X_train)\n",
    "X_test_selected = rfe.transform(X_test)\n",
    "\n",
    "# Train logistic regression model on selected features\n",
    "log_reg.fit(X_train_selected, y_train)\n",
    "\n",
    "# Predict on the test set\n",
    "y_pred = log_reg.predict(X_test_selected)\n",
    "\n",
    "# Evaluate accuracy\n",
    "accuracy = accuracy_score(y_test, y_pred)\n",
    "print(\"Accuracy on test set with selected features:\", accuracy)"
   ]
  },
  {
   "cell_type": "code",
   "execution_count": 270,
   "id": "5532bfd4",
   "metadata": {},
   "outputs": [
    {
     "name": "stdout",
     "output_type": "stream",
     "text": [
      "Selected Columns: ['feature_0', 'feature_5', 'feature_21', 'feature_23', 'feature_38', 'feature_39', 'feature_40', 'feature_41', 'feature_43', 'feature_45', 'feature_46', 'feature_47', 'feature_48', 'feature_49', 'feature_50', 'feature_51', 'feature_52', 'feature_53', 'feature_54', 'feature_55', 'feature_56', 'feature_57', 'feature_58', 'feature_59', 'feature_60', 'feature_61', 'feature_62', 'feature_63', 'feature_64', 'feature_65', 'feature_66', 'feature_67', 'feature_68', 'feature_71', 'feature_72', 'feature_74', 'feature_75', 'feature_76']\n",
      "\n",
      "RFE Result:\n"
     ]
    }
   ],
   "source": [
    "# Get the selected features (columns)\n",
    "selected_columns = [column for column, selected in zip(range(X.shape[1]), rfe.support_) if selected]\n",
    "\n",
    "# Extract the selected column names from the original dataset\n",
    "original_column_names = [f'feature_{i}' for i in range(X.shape[1])]\n",
    "selected_column_names = [original_column_names[i] for i in selected_columns]\n",
    "column_index=[i for i in selected_columns]\n",
    "\n",
    "# Convert the boolean mask to a DataFrame for better visualization\n",
    "rfe_result_df = pd.DataFrame(data={'Feature': original_column_names, 'Selected': rfe.support_})\n",
    "\n",
    "# Display the result\n",
    "print(\"Selected Columns:\", selected_column_names)\n",
    "print(\"\\nRFE Result:\")"
   ]
  },
  {
   "cell_type": "code",
   "execution_count": 271,
   "id": "12274471",
   "metadata": {},
   "outputs": [],
   "source": [
    "# Using list comprehension\n",
    "selected_column_names = [df.columns[i] for i in column_index]\n"
   ]
  },
  {
   "cell_type": "code",
   "execution_count": 272,
   "id": "6c1065d9",
   "metadata": {},
   "outputs": [],
   "source": [
    "df_rfe=df[selected_column_names]"
   ]
  },
  {
   "cell_type": "code",
   "execution_count": 273,
   "id": "0365de96",
   "metadata": {},
   "outputs": [
    {
     "name": "stdout",
     "output_type": "stream",
     "text": [
      "<class 'pandas.core.frame.DataFrame'>\n",
      "RangeIndex: 91713 entries, 0 to 91712\n",
      "Data columns (total 38 columns):\n",
      " #   Column                                      Non-Null Count  Dtype  \n",
      "---  ------                                      --------------  -----  \n",
      " 0   age                                         91713 non-null  float64\n",
      " 1   apache_3j_diagnosis                         91713 non-null  float64\n",
      " 2   d1_spo2_min                                 91713 non-null  float64\n",
      " 3   d1_sysbp_min                                91713 non-null  float64\n",
      " 4   apache_4a_icu_death_prob                    91713 non-null  float64\n",
      " 5   ethnicity_Caucasian                         91713 non-null  int64  \n",
      " 6   ethnicity_Other                             91713 non-null  int64  \n",
      " 7   gender_M                                    91713 non-null  int64  \n",
      " 8   icu_admit_source_Operating Room / Recovery  91713 non-null  int64  \n",
      " 9   icu_stay_type_transfer                      91713 non-null  int64  \n",
      " 10  icu_type_CSICU                              91713 non-null  int64  \n",
      " 11  icu_type_CTICU                              91713 non-null  int64  \n",
      " 12  icu_type_Cardiac ICU                        91713 non-null  int64  \n",
      " 13  icu_type_MICU                               91713 non-null  int64  \n",
      " 14  icu_type_Med-Surg ICU                       91713 non-null  int64  \n",
      " 15  icu_type_Neuro ICU                          91713 non-null  int64  \n",
      " 16  icu_type_SICU                               91713 non-null  int64  \n",
      " 17  apache_3j_bodysystem_Gastrointestinal       91713 non-null  int64  \n",
      " 18  apache_3j_bodysystem_Metabolic              91713 non-null  int64  \n",
      " 19  apache_3j_bodysystem_Neurological           91713 non-null  int64  \n",
      " 20  apache_3j_bodysystem_Other                  91713 non-null  int64  \n",
      " 21  apache_3j_bodysystem_Respiratory            91713 non-null  int64  \n",
      " 22  apache_3j_bodysystem_Sepsis                 91713 non-null  int64  \n",
      " 23  apache_3j_bodysystem_Trauma                 91713 non-null  int64  \n",
      " 24  apache_2_bodysystem_Gastrointestinal        91713 non-null  int64  \n",
      " 25  apache_2_bodysystem_Metabolic               91713 non-null  int64  \n",
      " 26  apache_2_bodysystem_Neurologic              91713 non-null  int64  \n",
      " 27  apache_2_bodysystem_Other                   91713 non-null  int64  \n",
      " 28  apache_2_bodysystem_Respiratory             91713 non-null  int64  \n",
      " 29  apache_2_bodysystem_Trauma                  91713 non-null  int64  \n",
      " 30  apache_2_bodysystem_Undefined Diagnoses     91713 non-null  int64  \n",
      " 31  elective_surgery                            91713 non-null  int64  \n",
      " 32  apache_post_operative                       91713 non-null  int64  \n",
      " 33  ventilated_apache                           91713 non-null  float64\n",
      " 34  cirrhosis                                   91713 non-null  float64\n",
      " 35  hepatic_failure                             91713 non-null  float64\n",
      " 36  immunosuppression                           91713 non-null  float64\n",
      " 37  solid_tumor_with_metastasis                 91713 non-null  float64\n",
      "dtypes: float64(10), int64(28)\n",
      "memory usage: 26.6 MB\n"
     ]
    }
   ],
   "source": [
    "df_rfe.info()"
   ]
  },
  {
   "cell_type": "code",
   "execution_count": 274,
   "id": "adb5c874",
   "metadata": {},
   "outputs": [
    {
     "name": "stdout",
     "output_type": "stream",
     "text": [
      "0.8903924414468255\n"
     ]
    }
   ],
   "source": [
    "log_reg_score = log_reg.score(X_train_selected, y_train)\n",
    "print(log_reg_score)\n"
   ]
  },
  {
   "cell_type": "code",
   "execution_count": 275,
   "id": "b38463eb",
   "metadata": {},
   "outputs": [],
   "source": [
    "y_pred_train=log_reg.predict(X_train_selected)"
   ]
  },
  {
   "cell_type": "code",
   "execution_count": 276,
   "id": "06147b2e",
   "metadata": {},
   "outputs": [
    {
     "name": "stdout",
     "output_type": "stream",
     "text": [
      "[[56477  2088]\n",
      " [ 5615  6098]]\n",
      "              precision    recall  f1-score   support\n",
      "\n",
      "           0       0.91      0.96      0.94     58565\n",
      "           1       0.74      0.52      0.61     11713\n",
      "\n",
      "    accuracy                           0.89     70278\n",
      "   macro avg       0.83      0.74      0.77     70278\n",
      "weighted avg       0.88      0.89      0.88     70278\n",
      "\n"
     ]
    }
   ],
   "source": [
    "\n",
    "print(confusion_matrix(y_train, y_pred_train))\n",
    "\n",
    "\n",
    "\n",
    "print(metrics.classification_report(y_train, y_pred_train)) #logistic regression"
   ]
  },
  {
   "cell_type": "code",
   "execution_count": 277,
   "id": "1a8343d9",
   "metadata": {},
   "outputs": [
    {
     "name": "stdout",
     "output_type": "stream",
     "text": [
      "[[24347   886]\n",
      " [ 1589   692]]\n",
      "              precision    recall  f1-score   support\n",
      "\n",
      "           0       0.94      0.96      0.95     25233\n",
      "           1       0.44      0.30      0.36      2281\n",
      "\n",
      "    accuracy                           0.91     27514\n",
      "   macro avg       0.69      0.63      0.66     27514\n",
      "weighted avg       0.90      0.91      0.90     27514\n",
      "\n"
     ]
    }
   ],
   "source": [
    "\n",
    "print(confusion_matrix(y_test, y_pred))\n",
    "\n",
    "\n",
    "\n",
    "print(metrics.classification_report(y_test, y_pred)) #logistic regression"
   ]
  },
  {
   "cell_type": "code",
   "execution_count": 278,
   "id": "1015eb5e",
   "metadata": {},
   "outputs": [],
   "source": [
    "#rfe gives us 38 column which are highly suitable for our classification problem."
   ]
  },
  {
   "cell_type": "raw",
   "id": "0ede8c13",
   "metadata": {},
   "source": [
    "\n",
    "\n",
    "Once you have identified and selected these features using RFE with logistic regression, you can use them as input features for other machine learning models."
   ]
  },
  {
   "cell_type": "raw",
   "id": "4053c512",
   "metadata": {},
   "source": [
    "df_final.info()"
   ]
  },
  {
   "cell_type": "code",
   "execution_count": 279,
   "id": "d424f6e8",
   "metadata": {},
   "outputs": [],
   "source": [
    "import warnings\n",
    "warnings.filterwarnings(\"ignore\")\n"
   ]
  },
  {
   "cell_type": "raw",
   "id": "708a7391",
   "metadata": {},
   "source": [
    "X=df_final.drop('hospital_death',axis=1)\n",
    "y=df_final['hospital_death']\n",
    "X.columns"
   ]
  },
  {
   "cell_type": "raw",
   "id": "6a425746",
   "metadata": {},
   "source": [
    "X.shape"
   ]
  },
  {
   "cell_type": "code",
   "execution_count": 280,
   "id": "89387f7c",
   "metadata": {},
   "outputs": [],
   "source": [
    "\n",
    "from sklearn.model_selection import train_test_split"
   ]
  },
  {
   "cell_type": "raw",
   "id": "0644075f",
   "metadata": {},
   "source": [
    "X=df.drop(['hospital_death'],axis=1)\n",
    "y=df['hospital_death']"
   ]
  },
  {
   "cell_type": "raw",
   "id": "5353b939",
   "metadata": {},
   "source": [
    "(y_train.value_counts()/len(y_train))*100"
   ]
  },
  {
   "cell_type": "raw",
   "id": "ed60c4e6",
   "metadata": {},
   "source": [
    "#Balancing\n",
    "smote=SMOTE(sampling_strategy=0.3)\n",
    "X_train,y_train=smote.fit_resample(X_train,y_train)\n",
    "(y_train.value_counts()/len(y_train))*100"
   ]
  },
  {
   "cell_type": "raw",
   "id": "8f0b0e2a",
   "metadata": {},
   "source": [
    "lrmodel=LogisticRegression()"
   ]
  },
  {
   "cell_type": "raw",
   "id": "04d2e98b",
   "metadata": {},
   "source": [
    "lrmodel.fit(X_train,y_train)"
   ]
  },
  {
   "cell_type": "code",
   "execution_count": 281,
   "id": "4f5b6dca",
   "metadata": {},
   "outputs": [],
   "source": [
    "from sklearn.metrics import confusion_matrix\n",
    "from sklearn import metrics"
   ]
  },
  {
   "cell_type": "raw",
   "id": "b56234cf",
   "metadata": {},
   "source": [
    "lrmodel_score = lrmodel.score(X_test, y_test)\n",
    "ypredict = lrmodel.predict(X_test)\n",
    "print(lrmodel_score)\n",
    "\n",
    "print(confusion_matrix(y_test, ypredict))"
   ]
  },
  {
   "cell_type": "raw",
   "id": "edb4607c",
   "metadata": {},
   "source": [
    "\n",
    "ypredict = lrmodel.predict(X_test)\n",
    "print(metrics.classification_report(y_test, ypredict)) #logistic regression"
   ]
  },
  {
   "cell_type": "markdown",
   "id": "011fbfcf",
   "metadata": {},
   "source": [
    "### Getting Optimal  Threshold"
   ]
  },
  {
   "cell_type": "code",
   "execution_count": 282,
   "id": "bf03d98c",
   "metadata": {},
   "outputs": [
    {
     "name": "stdout",
     "output_type": "stream",
     "text": [
      "Optimal Threshold: 0.078119\n",
      "AUC Score: 0.873508\n"
     ]
    }
   ],
   "source": [
    "from sklearn.metrics import roc_curve\n",
    "from sklearn.metrics import roc_auc_score\n",
    "\n",
    "# Load your dataset\n",
    "#X, y = load_your_data()\n",
    "\n",
    "# Create a logistic regression object\n",
    "model = LogisticRegression()\n",
    "\n",
    "# Fit the model to the data\n",
    "model.fit(X, y)\n",
    "\n",
    "# Predict the probabilities\n",
    "probs = model.predict_proba(X)\n",
    "\n",
    "# Calculate the ROC curve\n",
    "fpr, tpr, thresholds = roc_curve(y, probs[:, 1])\n",
    "\n",
    "# Calculate the AUC score\n",
    "auc_score = roc_auc_score(y, probs[:, 1])\n",
    "\n",
    "# Find the optimal threshold\n",
    "optimal_idx = np.argmax(tpr - fpr)\n",
    "optimal_threshold = thresholds[optimal_idx]\n",
    "\n",
    "# Print the optimal threshold and AUC score\n",
    "print(\"Optimal Threshold: %f\" % optimal_threshold)\n",
    "print(\"AUC Score: %f\" % auc_score)\n"
   ]
  },
  {
   "cell_type": "code",
   "execution_count": null,
   "id": "a91219fe",
   "metadata": {},
   "outputs": [],
   "source": []
  },
  {
   "cell_type": "code",
   "execution_count": 283,
   "id": "0b6c5aaf",
   "metadata": {},
   "outputs": [
    {
     "name": "stdout",
     "output_type": "stream",
     "text": [
      "[[0.94490625 0.05509375]\n",
      " [0.32514202 0.67485798]\n",
      " [0.99751179 0.00248821]\n",
      " ...\n",
      " [0.97406347 0.02593653]\n",
      " [0.9724048  0.0275952 ]\n",
      " [0.9090936  0.0909064 ]]\n"
     ]
    }
   ],
   "source": [
    "print(probs)"
   ]
  },
  {
   "cell_type": "code",
   "execution_count": 284,
   "id": "03c9c2f8",
   "metadata": {},
   "outputs": [],
   "source": [
    "# Example: Adjusting threshold to maximize sensitivity or specificity\n",
    "optimal_threshold # Adjust this threshold based on your analysis\n",
    "y_pred_adjusted = (probs >= optimal_threshold).astype(int)\n"
   ]
  },
  {
   "cell_type": "code",
   "execution_count": 285,
   "id": "ffac3477",
   "metadata": {},
   "outputs": [],
   "source": [
    "# Example: Retrain the model with the adjusted threshold\n",
    "model_adjusted = LogisticRegression()\n",
    "model_adjusted.fit(X_train, y_train)\n",
    "y_pred_adjusted = (model_adjusted.predict_proba(X_test)[:, 1] >= optimal_threshold).astype(int)\n"
   ]
  },
  {
   "cell_type": "code",
   "execution_count": 286,
   "id": "1d85d893",
   "metadata": {},
   "outputs": [
    {
     "name": "stdout",
     "output_type": "stream",
     "text": [
      "Accuracy: 0.7072762957040052\n",
      "Precision: 0.19771703843334382\n",
      "Recall: 0.8277071459886015\n",
      "F1 Score: 0.31918850380388847\n",
      "Confusion Matrix:\n",
      "[[17572  7661]\n",
      " [  393  1888]]\n"
     ]
    }
   ],
   "source": [
    "from sklearn.metrics import accuracy_score, precision_score, recall_score, f1_score, confusion_matrix\n",
    "\n",
    "# Example: Evaluate the model with the adjusted threshold\n",
    "accuracy = accuracy_score(y_test, y_pred_adjusted)\n",
    "precision = precision_score(y_test, y_pred_adjusted)\n",
    "recall = recall_score(y_test, y_pred_adjusted)\n",
    "f1 = f1_score(y_test, y_pred_adjusted)\n",
    "confusion = confusion_matrix(y_test, y_pred_adjusted)\n",
    "\n",
    "print(f\"Accuracy: {accuracy}\")\n",
    "print(f\"Precision: {precision}\")\n",
    "print(f\"Recall: {recall}\")\n",
    "print(f\"F1 Score: {f1}\")\n",
    "print(f\"Confusion Matrix:\\n{confusion}\")\n"
   ]
  },
  {
   "cell_type": "code",
   "execution_count": 287,
   "id": "fd763e48",
   "metadata": {},
   "outputs": [
    {
     "name": "stdout",
     "output_type": "stream",
     "text": [
      "              precision    recall  f1-score   support\n",
      "\n",
      "           0       0.98      0.70      0.81     25233\n",
      "           1       0.20      0.83      0.32      2281\n",
      "\n",
      "    accuracy                           0.71     27514\n",
      "   macro avg       0.59      0.76      0.57     27514\n",
      "weighted avg       0.91      0.71      0.77     27514\n",
      "\n"
     ]
    }
   ],
   "source": [
    "print(metrics.classification_report(y_test, y_pred_adjusted))\n"
   ]
  },
  {
   "cell_type": "raw",
   "id": "6758e1df",
   "metadata": {},
   "source": [
    "We get good recall for logistic regression"
   ]
  },
  {
   "cell_type": "code",
   "execution_count": 288,
   "id": "6099b7c1",
   "metadata": {},
   "outputs": [],
   "source": [
    "#check for over fit\n",
    "y_train_pred_adjusted = (model_adjusted.predict_proba(X_train)[:, 1] >= optimal_threshold).astype(int)\n"
   ]
  },
  {
   "cell_type": "code",
   "execution_count": 289,
   "id": "fae5060a",
   "metadata": {},
   "outputs": [
    {
     "name": "stdout",
     "output_type": "stream",
     "text": [
      "              precision    recall  f1-score   support\n",
      "\n",
      "           0       0.98      0.70      0.81     58565\n",
      "           1       0.38      0.91      0.53     11713\n",
      "\n",
      "    accuracy                           0.73     70278\n",
      "   macro avg       0.68      0.81      0.67     70278\n",
      "weighted avg       0.88      0.73      0.77     70278\n",
      "\n"
     ]
    }
   ],
   "source": [
    "print(metrics.classification_report(y_train, y_train_pred_adjusted))\n"
   ]
  },
  {
   "cell_type": "code",
   "execution_count": 290,
   "id": "6bf5c326",
   "metadata": {},
   "outputs": [],
   "source": [
    "#clearly not overfit"
   ]
  },
  {
   "cell_type": "code",
   "execution_count": 354,
   "id": "7bf4c928",
   "metadata": {},
   "outputs": [
    {
     "data": {
      "image/png": "[encoded data removed]",
      "text/plain": [
       "<Figure size 800x600 with 1 Axes>"
      ]
     },
     "metadata": {},
     "output_type": "display_data"
    }
   ],
   "source": [
    "# Plot ROC curve\n",
    "plt.figure(figsize=(8, 6))\n",
    "plt.plot(fpr, tpr, label=f'ROC Curve (AUC = {roc_auc_score(y_test, y_probabilities):.2f})')\n",
    "plt.plot([0, 1], [0, 1], linestyle='--', color='gray', label='Random')\n",
    "plt.xlabel('False Positive Rate')\n",
    "plt.ylabel('True Positive Rate')\n",
    "plt.title('ROC Curve')\n",
    "plt.legend()\n",
    "plt.show()"
   ]
  },
  {
   "cell_type": "markdown",
   "id": "16c40456",
   "metadata": {},
   "source": [
    "## --------------------------------------Naive Bayes----------------------------------------------------"
   ]
  },
  {
   "cell_type": "code",
   "execution_count": 291,
   "id": "0bcb98da",
   "metadata": {},
   "outputs": [],
   "source": [
    "from sklearn.naive_bayes import GaussianNB"
   ]
  },
  {
   "cell_type": "code",
   "execution_count": 292,
   "id": "8510e63a",
   "metadata": {},
   "outputs": [
    {
     "name": "stdout",
     "output_type": "stream",
     "text": [
      "GaussianNB()\n",
      "              precision    recall  f1-score   support\n",
      "\n",
      "           0       0.97      0.70      0.81     25233\n",
      "           1       0.18      0.75      0.29      2281\n",
      "\n",
      "    accuracy                           0.70     27514\n",
      "   macro avg       0.58      0.72      0.55     27514\n",
      "weighted avg       0.90      0.70      0.77     27514\n",
      "\n",
      "[[17687  7546]\n",
      " [  581  1700]]\n"
     ]
    }
   ],
   "source": [
    "nbmodel = GaussianNB()\n",
    "nbmodel.fit(X_train, y_train)\n",
    "print(nbmodel)\n",
    "# make predictions\n",
    "expected = y_test\n",
    "predicted = nbmodel.predict(X_test)\n",
    "# summarize the fit of the model\n",
    "print(metrics.classification_report(expected, predicted))\n",
    "print(metrics.confusion_matrix(expected, predicted))"
   ]
  },
  {
   "cell_type": "code",
   "execution_count": 293,
   "id": "93bd7ab1",
   "metadata": {},
   "outputs": [],
   "source": [
    "#Trying df_rfe obtained from logreg model\n"
   ]
  },
  {
   "cell_type": "code",
   "execution_count": 294,
   "id": "645d2410",
   "metadata": {},
   "outputs": [],
   "source": [
    "df_final=pd.concat([df_rfe,data['hospital_death']],axis=1)"
   ]
  },
  {
   "cell_type": "code",
   "execution_count": 295,
   "id": "a9518e6c",
   "metadata": {},
   "outputs": [
    {
     "data": {
      "text/plain": [
       "(91713, 38)"
      ]
     },
     "execution_count": 295,
     "metadata": {},
     "output_type": "execute_result"
    }
   ],
   "source": [
    "X_rfe=df_final.drop('hospital_death',axis=1)\n",
    "y_rfe=df_final['hospital_death']\n",
    "X_rfe.shape"
   ]
  },
  {
   "cell_type": "code",
   "execution_count": 296,
   "id": "e85a6122",
   "metadata": {},
   "outputs": [
    {
     "name": "stdout",
     "output_type": "stream",
     "text": [
      "(64199, 38)\n",
      "(27514, 38)\n",
      "(64199,)\n",
      "(27514,)\n"
     ]
    }
   ],
   "source": [
    "X_train_rfe,X_test_rfe,y_train_rfe,y_test_rfe=train_test_split(X_rfe,y_rfe,test_size=0.3,random_state=10)\n",
    "print(X_train_rfe.shape)\n",
    "print(X_test_rfe.shape)\n",
    "print(y_train_rfe.shape)\n",
    "print(y_test_rfe.shape)"
   ]
  },
  {
   "cell_type": "code",
   "execution_count": 297,
   "id": "942e6111",
   "metadata": {
    "scrolled": true
   },
   "outputs": [
    {
     "name": "stdout",
     "output_type": "stream",
     "text": [
      "GaussianNB()\n",
      "              precision    recall  f1-score   support\n",
      "\n",
      "           0       0.97      0.71      0.82     25233\n",
      "           1       0.19      0.72      0.30      2281\n",
      "\n",
      "    accuracy                           0.71     27514\n",
      "   macro avg       0.58      0.72      0.56     27514\n",
      "weighted avg       0.90      0.71      0.78     27514\n",
      "\n",
      "[[17973  7260]\n",
      " [  629  1652]]\n"
     ]
    }
   ],
   "source": [
    "nbmodel = GaussianNB()\n",
    "nbmodel.fit(X_train_rfe, y_train_rfe)\n",
    "print(nbmodel)\n",
    "# make predictions\n",
    "expected = y_test_rfe\n",
    "predicted = nbmodel.predict(X_test_rfe)\n",
    "# summarize the fit of the model\n",
    "print(metrics.classification_report(expected, predicted))\n",
    "print(metrics.confusion_matrix(expected, predicted))"
   ]
  },
  {
   "cell_type": "code",
   "execution_count": 298,
   "id": "98cd4471",
   "metadata": {},
   "outputs": [
    {
     "name": "stdout",
     "output_type": "stream",
     "text": [
      "              precision    recall  f1-score   support\n",
      "\n",
      "           0       0.97      0.71      0.82     58565\n",
      "           1       0.20      0.74      0.31      5634\n",
      "\n",
      "    accuracy                           0.71     64199\n",
      "   macro avg       0.58      0.73      0.57     64199\n",
      "weighted avg       0.90      0.71      0.78     64199\n",
      "\n",
      "[[41696 16869]\n",
      " [ 1473  4161]]\n"
     ]
    }
   ],
   "source": [
    "expected = y_train_rfe\n",
    "predicted = nbmodel.predict(X_train_rfe)\n",
    "# summarize the fit of the model\n",
    "print(metrics.classification_report(expected, predicted))\n",
    "print(metrics.confusion_matrix(expected, predicted))"
   ]
  },
  {
   "cell_type": "code",
   "execution_count": 299,
   "id": "52490deb",
   "metadata": {},
   "outputs": [],
   "source": [
    "#Not much improvement on using Rfe columns acquired."
   ]
  },
  {
   "cell_type": "markdown",
   "id": "5d483042",
   "metadata": {},
   "source": [
    "### _------------------------------------------KNN--------------------------------------------------------"
   ]
  },
  {
   "cell_type": "code",
   "execution_count": 300,
   "id": "4ebfe07f",
   "metadata": {},
   "outputs": [
    {
     "data": {
      "text/plain": [
       "KNeighborsClassifier(weights='distance')"
      ]
     },
     "execution_count": 300,
     "metadata": {},
     "output_type": "execute_result"
    }
   ],
   "source": [
    "from sklearn.neighbors import KNeighborsClassifier\n",
    "NNH = KNeighborsClassifier( weights = 'distance')\n",
    "NNH.fit(X_train, y_train)"
   ]
  },
  {
   "cell_type": "code",
   "execution_count": 301,
   "id": "9ba5be14",
   "metadata": {},
   "outputs": [
    {
     "name": "stdout",
     "output_type": "stream",
     "text": [
      "[[23000  2233]\n",
      " [ 1252  1029]]\n"
     ]
    }
   ],
   "source": [
    "predicted_labels = NNH.predict(X_test)\n",
    "print(metrics.confusion_matrix(y_test, predicted_labels))"
   ]
  },
  {
   "cell_type": "code",
   "execution_count": 302,
   "id": "38819393",
   "metadata": {},
   "outputs": [
    {
     "name": "stdout",
     "output_type": "stream",
     "text": [
      "              precision    recall  f1-score   support\n",
      "\n",
      "           0       0.95      0.91      0.93     25233\n",
      "           1       0.32      0.45      0.37      2281\n",
      "\n",
      "    accuracy                           0.87     27514\n",
      "   macro avg       0.63      0.68      0.65     27514\n",
      "weighted avg       0.90      0.87      0.88     27514\n",
      "\n"
     ]
    }
   ],
   "source": [
    "# summarize the fit of the model\n",
    "print(metrics.classification_report(y_test, predicted_labels)) #k nearest neighbour "
   ]
  },
  {
   "cell_type": "markdown",
   "id": "322065ce",
   "metadata": {},
   "source": [
    "### ---------------------------------------Decision Tree--------------------------------------------------"
   ]
  },
  {
   "cell_type": "code",
   "execution_count": 303,
   "id": "c879e02e",
   "metadata": {},
   "outputs": [
    {
     "data": {
      "text/plain": [
       "DecisionTreeClassifier(criterion='entropy', max_depth=5)"
      ]
     },
     "execution_count": 303,
     "metadata": {},
     "output_type": "execute_result"
    }
   ],
   "source": [
    "from sklearn.tree import DecisionTreeClassifier\n",
    "dt_model=DecisionTreeClassifier(criterion='entropy',max_depth=5)\n",
    "dt_model.fit(X_train,y_train)"
   ]
  },
  {
   "cell_type": "code",
   "execution_count": 304,
   "id": "a3e1279c",
   "metadata": {
    "scrolled": false
   },
   "outputs": [
    {
     "data": {
      "text/html": [
       "<div>\n",
       "<style scoped>\n",
       "    .dataframe tbody tr th:only-of-type {\n",
       "        vertical-align: middle;\n",
       "    }\n",
       "\n",
       "    .dataframe tbody tr th {\n",
       "        vertical-align: top;\n",
       "    }\n",
       "\n",
       "    .dataframe thead th {\n",
       "        text-align: right;\n",
       "    }\n",
       "</style>\n",
       "<table border=\"1\" class=\"dataframe\">\n",
       "  <thead>\n",
       "    <tr style=\"text-align: right;\">\n",
       "      <th></th>\n",
       "      <th>Imp</th>\n",
       "    </tr>\n",
       "  </thead>\n",
       "  <tbody>\n",
       "    <tr>\n",
       "      <th>apache_4a_icu_death_prob</th>\n",
       "      <td>0.847577</td>\n",
       "    </tr>\n",
       "    <tr>\n",
       "      <th>ventilated_apache</th>\n",
       "      <td>0.066369</td>\n",
       "    </tr>\n",
       "    <tr>\n",
       "      <th>d1_sysbp_min</th>\n",
       "      <td>0.031665</td>\n",
       "    </tr>\n",
       "    <tr>\n",
       "      <th>d1_spo2_min</th>\n",
       "      <td>0.018576</td>\n",
       "    </tr>\n",
       "    <tr>\n",
       "      <th>d1_heartrate_min</th>\n",
       "      <td>0.008857</td>\n",
       "    </tr>\n",
       "    <tr>\n",
       "      <th>d1_temp_min</th>\n",
       "      <td>0.006548</td>\n",
       "    </tr>\n",
       "    <tr>\n",
       "      <th>d1_resprate_max</th>\n",
       "      <td>0.006045</td>\n",
       "    </tr>\n",
       "    <tr>\n",
       "      <th>d1_resprate_min</th>\n",
       "      <td>0.003630</td>\n",
       "    </tr>\n",
       "    <tr>\n",
       "      <th>d1_spo2_max</th>\n",
       "      <td>0.003315</td>\n",
       "    </tr>\n",
       "    <tr>\n",
       "      <th>d1_potassium_max</th>\n",
       "      <td>0.002474</td>\n",
       "    </tr>\n",
       "    <tr>\n",
       "      <th>h1_resprate_min</th>\n",
       "      <td>0.001411</td>\n",
       "    </tr>\n",
       "    <tr>\n",
       "      <th>age</th>\n",
       "      <td>0.001405</td>\n",
       "    </tr>\n",
       "    <tr>\n",
       "      <th>h1_heartrate_min</th>\n",
       "      <td>0.001101</td>\n",
       "    </tr>\n",
       "    <tr>\n",
       "      <th>d1_sysbp_max</th>\n",
       "      <td>0.000605</td>\n",
       "    </tr>\n",
       "    <tr>\n",
       "      <th>icu_admit_source_Other</th>\n",
       "      <td>0.000422</td>\n",
       "    </tr>\n",
       "    <tr>\n",
       "      <th>hepatic_failure</th>\n",
       "      <td>0.000000</td>\n",
       "    </tr>\n",
       "    <tr>\n",
       "      <th>diabetes_mellitus</th>\n",
       "      <td>0.000000</td>\n",
       "    </tr>\n",
       "    <tr>\n",
       "      <th>icu_type_Cardiac ICU</th>\n",
       "      <td>0.000000</td>\n",
       "    </tr>\n",
       "    <tr>\n",
       "      <th>icu_type_MICU</th>\n",
       "      <td>0.000000</td>\n",
       "    </tr>\n",
       "    <tr>\n",
       "      <th>icu_type_Med-Surg ICU</th>\n",
       "      <td>0.000000</td>\n",
       "    </tr>\n",
       "    <tr>\n",
       "      <th>icu_type_Neuro ICU</th>\n",
       "      <td>0.000000</td>\n",
       "    </tr>\n",
       "    <tr>\n",
       "      <th>icu_type_SICU</th>\n",
       "      <td>0.000000</td>\n",
       "    </tr>\n",
       "    <tr>\n",
       "      <th>apache_3j_bodysystem_Gastrointestinal</th>\n",
       "      <td>0.000000</td>\n",
       "    </tr>\n",
       "    <tr>\n",
       "      <th>apache_3j_bodysystem_Metabolic</th>\n",
       "      <td>0.000000</td>\n",
       "    </tr>\n",
       "    <tr>\n",
       "      <th>apache_3j_bodysystem_Neurological</th>\n",
       "      <td>0.000000</td>\n",
       "    </tr>\n",
       "    <tr>\n",
       "      <th>apache_3j_bodysystem_Other</th>\n",
       "      <td>0.000000</td>\n",
       "    </tr>\n",
       "    <tr>\n",
       "      <th>apache_3j_bodysystem_Respiratory</th>\n",
       "      <td>0.000000</td>\n",
       "    </tr>\n",
       "    <tr>\n",
       "      <th>apache_3j_bodysystem_Sepsis</th>\n",
       "      <td>0.000000</td>\n",
       "    </tr>\n",
       "    <tr>\n",
       "      <th>apache_3j_bodysystem_Trauma</th>\n",
       "      <td>0.000000</td>\n",
       "    </tr>\n",
       "    <tr>\n",
       "      <th>apache_2_bodysystem_Gastrointestinal</th>\n",
       "      <td>0.000000</td>\n",
       "    </tr>\n",
       "    <tr>\n",
       "      <th>apache_2_bodysystem_Metabolic</th>\n",
       "      <td>0.000000</td>\n",
       "    </tr>\n",
       "    <tr>\n",
       "      <th>apache_2_bodysystem_Neurologic</th>\n",
       "      <td>0.000000</td>\n",
       "    </tr>\n",
       "    <tr>\n",
       "      <th>icu_type_CSICU</th>\n",
       "      <td>0.000000</td>\n",
       "    </tr>\n",
       "    <tr>\n",
       "      <th>apache_2_bodysystem_Other</th>\n",
       "      <td>0.000000</td>\n",
       "    </tr>\n",
       "    <tr>\n",
       "      <th>apache_2_bodysystem_Respiratory</th>\n",
       "      <td>0.000000</td>\n",
       "    </tr>\n",
       "    <tr>\n",
       "      <th>apache_2_bodysystem_Trauma</th>\n",
       "      <td>0.000000</td>\n",
       "    </tr>\n",
       "    <tr>\n",
       "      <th>apache_2_bodysystem_Undefined Diagnoses</th>\n",
       "      <td>0.000000</td>\n",
       "    </tr>\n",
       "    <tr>\n",
       "      <th>elective_surgery</th>\n",
       "      <td>0.000000</td>\n",
       "    </tr>\n",
       "    <tr>\n",
       "      <th>immunosuppression</th>\n",
       "      <td>0.000000</td>\n",
       "    </tr>\n",
       "    <tr>\n",
       "      <th>apache_post_operative</th>\n",
       "      <td>0.000000</td>\n",
       "    </tr>\n",
       "    <tr>\n",
       "      <th>arf_apache</th>\n",
       "      <td>0.000000</td>\n",
       "    </tr>\n",
       "    <tr>\n",
       "      <th>intubated_apache</th>\n",
       "      <td>0.000000</td>\n",
       "    </tr>\n",
       "    <tr>\n",
       "      <th>height</th>\n",
       "      <td>0.000000</td>\n",
       "    </tr>\n",
       "    <tr>\n",
       "      <th>cirrhosis</th>\n",
       "      <td>0.000000</td>\n",
       "    </tr>\n",
       "    <tr>\n",
       "      <th>icu_type_CTICU</th>\n",
       "      <td>0.000000</td>\n",
       "    </tr>\n",
       "    <tr>\n",
       "      <th>temp_apache</th>\n",
       "      <td>0.000000</td>\n",
       "    </tr>\n",
       "    <tr>\n",
       "      <th>icu_stay_type_transfer</th>\n",
       "      <td>0.000000</td>\n",
       "    </tr>\n",
       "    <tr>\n",
       "      <th>h1_resprate_max</th>\n",
       "      <td>0.000000</td>\n",
       "    </tr>\n",
       "    <tr>\n",
       "      <th>d1_diasbp_min</th>\n",
       "      <td>0.000000</td>\n",
       "    </tr>\n",
       "    <tr>\n",
       "      <th>d1_heartrate_max</th>\n",
       "      <td>0.000000</td>\n",
       "    </tr>\n",
       "    <tr>\n",
       "      <th>resprate_apache</th>\n",
       "      <td>0.000000</td>\n",
       "    </tr>\n",
       "    <tr>\n",
       "      <th>d1_mbp_noninvasive_max</th>\n",
       "      <td>0.000000</td>\n",
       "    </tr>\n",
       "    <tr>\n",
       "      <th>map_apache</th>\n",
       "      <td>0.000000</td>\n",
       "    </tr>\n",
       "    <tr>\n",
       "      <th>heart_rate_apache</th>\n",
       "      <td>0.000000</td>\n",
       "    </tr>\n",
       "    <tr>\n",
       "      <th>gcs_verbal_apache</th>\n",
       "      <td>0.000000</td>\n",
       "    </tr>\n",
       "    <tr>\n",
       "      <th>gcs_motor_apache</th>\n",
       "      <td>0.000000</td>\n",
       "    </tr>\n",
       "    <tr>\n",
       "      <th>gcs_eyes_apache</th>\n",
       "      <td>0.000000</td>\n",
       "    </tr>\n",
       "    <tr>\n",
       "      <th>d1_temp_max</th>\n",
       "      <td>0.000000</td>\n",
       "    </tr>\n",
       "    <tr>\n",
       "      <th>apache_3j_diagnosis</th>\n",
       "      <td>0.000000</td>\n",
       "    </tr>\n",
       "    <tr>\n",
       "      <th>h1_diasbp_max</th>\n",
       "      <td>0.000000</td>\n",
       "    </tr>\n",
       "    <tr>\n",
       "      <th>h1_diasbp_noninvasive_min</th>\n",
       "      <td>0.000000</td>\n",
       "    </tr>\n",
       "    <tr>\n",
       "      <th>apache_2_diagnosis</th>\n",
       "      <td>0.000000</td>\n",
       "    </tr>\n",
       "    <tr>\n",
       "      <th>d1_diasbp_max</th>\n",
       "      <td>0.000000</td>\n",
       "    </tr>\n",
       "    <tr>\n",
       "      <th>h1_spo2_max</th>\n",
       "      <td>0.000000</td>\n",
       "    </tr>\n",
       "    <tr>\n",
       "      <th>h1_spo2_min</th>\n",
       "      <td>0.000000</td>\n",
       "    </tr>\n",
       "    <tr>\n",
       "      <th>h1_sysbp_max</th>\n",
       "      <td>0.000000</td>\n",
       "    </tr>\n",
       "    <tr>\n",
       "      <th>d1_glucose_max</th>\n",
       "      <td>0.000000</td>\n",
       "    </tr>\n",
       "    <tr>\n",
       "      <th>d1_glucose_min</th>\n",
       "      <td>0.000000</td>\n",
       "    </tr>\n",
       "    <tr>\n",
       "      <th>pre_icu_los_days</th>\n",
       "      <td>0.000000</td>\n",
       "    </tr>\n",
       "    <tr>\n",
       "      <th>d1_potassium_min</th>\n",
       "      <td>0.000000</td>\n",
       "    </tr>\n",
       "    <tr>\n",
       "      <th>bmi</th>\n",
       "      <td>0.000000</td>\n",
       "    </tr>\n",
       "    <tr>\n",
       "      <th>ethnicity_Caucasian</th>\n",
       "      <td>0.000000</td>\n",
       "    </tr>\n",
       "    <tr>\n",
       "      <th>ethnicity_Other</th>\n",
       "      <td>0.000000</td>\n",
       "    </tr>\n",
       "    <tr>\n",
       "      <th>gender_M</th>\n",
       "      <td>0.000000</td>\n",
       "    </tr>\n",
       "    <tr>\n",
       "      <th>icu_admit_source_Floor</th>\n",
       "      <td>0.000000</td>\n",
       "    </tr>\n",
       "    <tr>\n",
       "      <th>icu_admit_source_Operating Room / Recovery</th>\n",
       "      <td>0.000000</td>\n",
       "    </tr>\n",
       "    <tr>\n",
       "      <th>solid_tumor_with_metastasis</th>\n",
       "      <td>0.000000</td>\n",
       "    </tr>\n",
       "  </tbody>\n",
       "</table>\n",
       "</div>"
      ],
      "text/plain": [
       "                                                 Imp\n",
       "apache_4a_icu_death_prob                    0.847577\n",
       "ventilated_apache                           0.066369\n",
       "d1_sysbp_min                                0.031665\n",
       "d1_spo2_min                                 0.018576\n",
       "d1_heartrate_min                            0.008857\n",
       "d1_temp_min                                 0.006548\n",
       "d1_resprate_max                             0.006045\n",
       "d1_resprate_min                             0.003630\n",
       "d1_spo2_max                                 0.003315\n",
       "d1_potassium_max                            0.002474\n",
       "h1_resprate_min                             0.001411\n",
       "age                                         0.001405\n",
       "h1_heartrate_min                            0.001101\n",
       "d1_sysbp_max                                0.000605\n",
       "icu_admit_source_Other                      0.000422\n",
       "hepatic_failure                             0.000000\n",
       "diabetes_mellitus                           0.000000\n",
       "icu_type_Cardiac ICU                        0.000000\n",
       "icu_type_MICU                               0.000000\n",
       "icu_type_Med-Surg ICU                       0.000000\n",
       "icu_type_Neuro ICU                          0.000000\n",
       "icu_type_SICU                               0.000000\n",
       "apache_3j_bodysystem_Gastrointestinal       0.000000\n",
       "apache_3j_bodysystem_Metabolic              0.000000\n",
       "apache_3j_bodysystem_Neurological           0.000000\n",
       "apache_3j_bodysystem_Other                  0.000000\n",
       "apache_3j_bodysystem_Respiratory            0.000000\n",
       "apache_3j_bodysystem_Sepsis                 0.000000\n",
       "apache_3j_bodysystem_Trauma                 0.000000\n",
       "apache_2_bodysystem_Gastrointestinal        0.000000\n",
       "apache_2_bodysystem_Metabolic               0.000000\n",
       "apache_2_bodysystem_Neurologic              0.000000\n",
       "icu_type_CSICU                              0.000000\n",
       "apache_2_bodysystem_Other                   0.000000\n",
       "apache_2_bodysystem_Respiratory             0.000000\n",
       "apache_2_bodysystem_Trauma                  0.000000\n",
       "apache_2_bodysystem_Undefined Diagnoses     0.000000\n",
       "elective_surgery                            0.000000\n",
       "immunosuppression                           0.000000\n",
       "apache_post_operative                       0.000000\n",
       "arf_apache                                  0.000000\n",
       "intubated_apache                            0.000000\n",
       "height                                      0.000000\n",
       "cirrhosis                                   0.000000\n",
       "icu_type_CTICU                              0.000000\n",
       "temp_apache                                 0.000000\n",
       "icu_stay_type_transfer                      0.000000\n",
       "h1_resprate_max                             0.000000\n",
       "d1_diasbp_min                               0.000000\n",
       "d1_heartrate_max                            0.000000\n",
       "resprate_apache                             0.000000\n",
       "d1_mbp_noninvasive_max                      0.000000\n",
       "map_apache                                  0.000000\n",
       "heart_rate_apache                           0.000000\n",
       "gcs_verbal_apache                           0.000000\n",
       "gcs_motor_apache                            0.000000\n",
       "gcs_eyes_apache                             0.000000\n",
       "d1_temp_max                                 0.000000\n",
       "apache_3j_diagnosis                         0.000000\n",
       "h1_diasbp_max                               0.000000\n",
       "h1_diasbp_noninvasive_min                   0.000000\n",
       "apache_2_diagnosis                          0.000000\n",
       "d1_diasbp_max                               0.000000\n",
       "h1_spo2_max                                 0.000000\n",
       "h1_spo2_min                                 0.000000\n",
       "h1_sysbp_max                                0.000000\n",
       "d1_glucose_max                              0.000000\n",
       "d1_glucose_min                              0.000000\n",
       "pre_icu_los_days                            0.000000\n",
       "d1_potassium_min                            0.000000\n",
       "bmi                                         0.000000\n",
       "ethnicity_Caucasian                         0.000000\n",
       "ethnicity_Other                             0.000000\n",
       "gender_M                                    0.000000\n",
       "icu_admit_source_Floor                      0.000000\n",
       "icu_admit_source_Operating Room / Recovery  0.000000\n",
       "solid_tumor_with_metastasis                 0.000000"
      ]
     },
     "execution_count": 304,
     "metadata": {},
     "output_type": "execute_result"
    }
   ],
   "source": [
    "a=pd.DataFrame(dt_model.feature_importances_,columns=['Imp'],index=pd.DataFrame(X_train).columns)\n",
    "a.sort_values(by='Imp',ascending=False)"
   ]
  },
  {
   "cell_type": "code",
   "execution_count": 305,
   "id": "327bafac",
   "metadata": {},
   "outputs": [
    {
     "data": {
      "text/plain": [
       "0.9149887330086501"
      ]
     },
     "execution_count": 305,
     "metadata": {},
     "output_type": "execute_result"
    }
   ],
   "source": [
    "dt_model.score(X_test,y_test)"
   ]
  },
  {
   "cell_type": "code",
   "execution_count": 306,
   "id": "d1739ebe",
   "metadata": {},
   "outputs": [
    {
     "data": {
      "text/plain": [
       "0.8745837957824639"
      ]
     },
     "execution_count": 306,
     "metadata": {},
     "output_type": "execute_result"
    }
   ],
   "source": [
    "dt_model.score(X_train,y_train)"
   ]
  },
  {
   "cell_type": "code",
   "execution_count": 307,
   "id": "5c886a49",
   "metadata": {},
   "outputs": [],
   "source": [
    "y_pred=dt_model.predict(X_test)"
   ]
  },
  {
   "cell_type": "code",
   "execution_count": 308,
   "id": "1f1887cb",
   "metadata": {},
   "outputs": [
    {
     "name": "stdout",
     "output_type": "stream",
     "text": [
      "[[24370   863]\n",
      " [ 1476   805]]\n"
     ]
    }
   ],
   "source": [
    "print(metrics.confusion_matrix(y_test,y_pred))"
   ]
  },
  {
   "cell_type": "code",
   "execution_count": 309,
   "id": "a0f436ca",
   "metadata": {},
   "outputs": [
    {
     "name": "stdout",
     "output_type": "stream",
     "text": [
      "              precision    recall  f1-score   support\n",
      "\n",
      "           0       0.94      0.97      0.95     25233\n",
      "           1       0.48      0.35      0.41      2281\n",
      "\n",
      "    accuracy                           0.91     27514\n",
      "   macro avg       0.71      0.66      0.68     27514\n",
      "weighted avg       0.90      0.91      0.91     27514\n",
      "\n"
     ]
    }
   ],
   "source": [
    "print(metrics.classification_report(y_test,y_pred)) # decision tree"
   ]
  },
  {
   "cell_type": "code",
   "execution_count": null,
   "id": "61e7e73a",
   "metadata": {},
   "outputs": [],
   "source": []
  },
  {
   "cell_type": "code",
   "execution_count": 310,
   "id": "492fcdda",
   "metadata": {},
   "outputs": [],
   "source": [
    "from sklearn.ensemble import RandomForestClassifier\n",
    "from sklearn.ensemble import VotingClassifier\n",
    "from sklearn.ensemble import BaggingClassifier\n"
   ]
  },
  {
   "cell_type": "code",
   "execution_count": 311,
   "id": "a5194b34",
   "metadata": {},
   "outputs": [
    {
     "name": "stdout",
     "output_type": "stream",
     "text": [
      "              precision    recall  f1-score   support\n",
      "\n",
      "           0       0.94      0.99      0.96     25233\n",
      "           1       0.64      0.29      0.40      2281\n",
      "\n",
      "    accuracy                           0.93     27514\n",
      "   macro avg       0.79      0.64      0.68     27514\n",
      "weighted avg       0.91      0.93      0.92     27514\n",
      "\n",
      "              precision    recall  f1-score   support\n",
      "\n",
      "           0       0.94      0.99      0.96     25233\n",
      "           1       0.66      0.26      0.37      2281\n",
      "\n",
      "    accuracy                           0.93     27514\n",
      "   macro avg       0.80      0.62      0.67     27514\n",
      "weighted avg       0.91      0.93      0.91     27514\n",
      "\n",
      "              precision    recall  f1-score   support\n",
      "\n",
      "           0       0.94      0.97      0.96     25233\n",
      "           1       0.53      0.37      0.43      2281\n",
      "\n",
      "    accuracy                           0.92     27514\n",
      "   macro avg       0.74      0.67      0.70     27514\n",
      "weighted avg       0.91      0.92      0.91     27514\n",
      "\n"
     ]
    }
   ],
   "source": [
    "#Decision tree gives best results for both classes 0 and 1\n",
    "# given decision tree gives best results lets try ensemble of trees\n",
    "\n",
    "#converting y_train vector to 1d array\n",
    "y_train=np.ravel(y_train)\n",
    "\n",
    "rfcl=RandomForestClassifier(random_state=1)\n",
    "\n",
    "bgcl=BaggingClassifier(base_estimator=dt_model, n_estimators=20)\n",
    "\n",
    "encl=VotingClassifier(estimators=[('rf',rfcl),('bg',bgcl)],voting='hard')\n",
    "\n",
    "for clf,label in zip([rfcl,encl,bgcl],['RandomForest','Ensemble','Bagging']):\n",
    "    clf.fit(X_train,y_train)\n",
    "    y_predict=clf.predict(X_test)\n",
    "    print(metrics.classification_report(y_test,y_predict)) # random forest, ensembel, bagging"
   ]
  },
  {
   "cell_type": "code",
   "execution_count": null,
   "id": "216eb60a",
   "metadata": {},
   "outputs": [],
   "source": []
  },
  {
   "cell_type": "code",
   "execution_count": 321,
   "id": "5ed4ed3c",
   "metadata": {},
   "outputs": [],
   "source": [
    "#Fine tuning bagging classifier"
   ]
  },
  {
   "cell_type": "code",
   "execution_count": 323,
   "id": "441f5bde",
   "metadata": {},
   "outputs": [],
   "source": [
    "\n",
    "from sklearn.model_selection import GridSearchCV\n",
    "\n",
    "# Define the hyperparameter grid\n",
    "param_grid = {\n",
    "    'n_estimators': [10, 50, 100],\n",
    "    'base_estimator__max_depth': [None, 5, 10],\n",
    "    'base_estimator__min_samples_split': [2, 5, 10],\n",
    "}\n",
    "\n",
    "# Create the bagging classifier with DecisionTree as the base estimator\n",
    "base_model = DecisionTreeClassifier()\n",
    "bagging_model = BaggingClassifier(base_model, random_state=42)\n",
    "\n"
   ]
  },
  {
   "cell_type": "code",
   "execution_count": 325,
   "id": "ebeb60eb",
   "metadata": {},
   "outputs": [],
   "source": [
    "# Use GridSearchCV to find the best hyperparameters\n",
    "grid_search = GridSearchCV(bagging_model, param_grid, cv=5, scoring='f1')\n"
   ]
  },
  {
   "cell_type": "code",
   "execution_count": 342,
   "id": "d14ebeb3",
   "metadata": {},
   "outputs": [
    {
     "ename": "KeyboardInterrupt",
     "evalue": "",
     "output_type": "error",
     "traceback": [
      "\u001b[1;31m---------------------------------------------------------------------------\u001b[0m",
      "\u001b[1;31mKeyboardInterrupt\u001b[0m                         Traceback (most recent call last)",
      "\u001b[1;32m~\\AppData\\Local\\Temp\\ipykernel_68\\3965715637.py\u001b[0m in \u001b[0;36m<module>\u001b[1;34m\u001b[0m\n\u001b[1;32m----> 1\u001b[1;33m \u001b[0mgrid_search\u001b[0m\u001b[1;33m.\u001b[0m\u001b[0mfit\u001b[0m\u001b[1;33m(\u001b[0m\u001b[0mX_train\u001b[0m\u001b[1;33m,\u001b[0m \u001b[0my_train\u001b[0m\u001b[1;33m)\u001b[0m\u001b[1;33m\u001b[0m\u001b[1;33m\u001b[0m\u001b[0m\n\u001b[0m",
      "\u001b[1;32mC:\\Anaconda\\lib\\site-packages\\sklearn\\model_selection\\_search.py\u001b[0m in \u001b[0;36mfit\u001b[1;34m(self, X, y, groups, **fit_params)\u001b[0m\n\u001b[0;32m    889\u001b[0m                 \u001b[1;32mreturn\u001b[0m \u001b[0mresults\u001b[0m\u001b[1;33m\u001b[0m\u001b[1;33m\u001b[0m\u001b[0m\n\u001b[0;32m    890\u001b[0m \u001b[1;33m\u001b[0m\u001b[0m\n\u001b[1;32m--> 891\u001b[1;33m             \u001b[0mself\u001b[0m\u001b[1;33m.\u001b[0m\u001b[0m_run_search\u001b[0m\u001b[1;33m(\u001b[0m\u001b[0mevaluate_candidates\u001b[0m\u001b[1;33m)\u001b[0m\u001b[1;33m\u001b[0m\u001b[1;33m\u001b[0m\u001b[0m\n\u001b[0m\u001b[0;32m    892\u001b[0m \u001b[1;33m\u001b[0m\u001b[0m\n\u001b[0;32m    893\u001b[0m             \u001b[1;31m# multimetric is determined here because in the case of a callable\u001b[0m\u001b[1;33m\u001b[0m\u001b[1;33m\u001b[0m\u001b[0m\n",
      "\u001b[1;32mC:\\Anaconda\\lib\\site-packages\\sklearn\\model_selection\\_search.py\u001b[0m in \u001b[0;36m_run_search\u001b[1;34m(self, evaluate_candidates)\u001b[0m\n\u001b[0;32m   1390\u001b[0m     \u001b[1;32mdef\u001b[0m \u001b[0m_run_search\u001b[0m\u001b[1;33m(\u001b[0m\u001b[0mself\u001b[0m\u001b[1;33m,\u001b[0m \u001b[0mevaluate_candidates\u001b[0m\u001b[1;33m)\u001b[0m\u001b[1;33m:\u001b[0m\u001b[1;33m\u001b[0m\u001b[1;33m\u001b[0m\u001b[0m\n\u001b[0;32m   1391\u001b[0m         \u001b[1;34m\"\"\"Search all candidates in param_grid\"\"\"\u001b[0m\u001b[1;33m\u001b[0m\u001b[1;33m\u001b[0m\u001b[0m\n\u001b[1;32m-> 1392\u001b[1;33m         \u001b[0mevaluate_candidates\u001b[0m\u001b[1;33m(\u001b[0m\u001b[0mParameterGrid\u001b[0m\u001b[1;33m(\u001b[0m\u001b[0mself\u001b[0m\u001b[1;33m.\u001b[0m\u001b[0mparam_grid\u001b[0m\u001b[1;33m)\u001b[0m\u001b[1;33m)\u001b[0m\u001b[1;33m\u001b[0m\u001b[1;33m\u001b[0m\u001b[0m\n\u001b[0m\u001b[0;32m   1393\u001b[0m \u001b[1;33m\u001b[0m\u001b[0m\n\u001b[0;32m   1394\u001b[0m \u001b[1;33m\u001b[0m\u001b[0m\n",
      "\u001b[1;32mC:\\Anaconda\\lib\\site-packages\\sklearn\\model_selection\\_search.py\u001b[0m in \u001b[0;36mevaluate_candidates\u001b[1;34m(candidate_params, cv, more_results)\u001b[0m\n\u001b[0;32m    836\u001b[0m                     )\n\u001b[0;32m    837\u001b[0m \u001b[1;33m\u001b[0m\u001b[0m\n\u001b[1;32m--> 838\u001b[1;33m                 out = parallel(\n\u001b[0m\u001b[0;32m    839\u001b[0m                     delayed(_fit_and_score)(\n\u001b[0;32m    840\u001b[0m                         \u001b[0mclone\u001b[0m\u001b[1;33m(\u001b[0m\u001b[0mbase_estimator\u001b[0m\u001b[1;33m)\u001b[0m\u001b[1;33m,\u001b[0m\u001b[1;33m\u001b[0m\u001b[1;33m\u001b[0m\u001b[0m\n",
      "\u001b[1;32mC:\\Anaconda\\lib\\site-packages\\joblib\\parallel.py\u001b[0m in \u001b[0;36m__call__\u001b[1;34m(self, iterable)\u001b[0m\n\u001b[0;32m   1861\u001b[0m             \u001b[0moutput\u001b[0m \u001b[1;33m=\u001b[0m \u001b[0mself\u001b[0m\u001b[1;33m.\u001b[0m\u001b[0m_get_sequential_output\u001b[0m\u001b[1;33m(\u001b[0m\u001b[0miterable\u001b[0m\u001b[1;33m)\u001b[0m\u001b[1;33m\u001b[0m\u001b[1;33m\u001b[0m\u001b[0m\n\u001b[0;32m   1862\u001b[0m             \u001b[0mnext\u001b[0m\u001b[1;33m(\u001b[0m\u001b[0moutput\u001b[0m\u001b[1;33m)\u001b[0m\u001b[1;33m\u001b[0m\u001b[1;33m\u001b[0m\u001b[0m\n\u001b[1;32m-> 1863\u001b[1;33m             \u001b[1;32mreturn\u001b[0m \u001b[0moutput\u001b[0m \u001b[1;32mif\u001b[0m \u001b[0mself\u001b[0m\u001b[1;33m.\u001b[0m\u001b[0mreturn_generator\u001b[0m \u001b[1;32melse\u001b[0m \u001b[0mlist\u001b[0m\u001b[1;33m(\u001b[0m\u001b[0moutput\u001b[0m\u001b[1;33m)\u001b[0m\u001b[1;33m\u001b[0m\u001b[1;33m\u001b[0m\u001b[0m\n\u001b[0m\u001b[0;32m   1864\u001b[0m \u001b[1;33m\u001b[0m\u001b[0m\n\u001b[0;32m   1865\u001b[0m         \u001b[1;31m# Let's create an ID that uniquely identifies the current call. If the\u001b[0m\u001b[1;33m\u001b[0m\u001b[1;33m\u001b[0m\u001b[0m\n",
      "\u001b[1;32mC:\\Anaconda\\lib\\site-packages\\joblib\\parallel.py\u001b[0m in \u001b[0;36m_get_sequential_output\u001b[1;34m(self, iterable)\u001b[0m\n\u001b[0;32m   1790\u001b[0m                 \u001b[0mself\u001b[0m\u001b[1;33m.\u001b[0m\u001b[0mn_dispatched_batches\u001b[0m \u001b[1;33m+=\u001b[0m \u001b[1;36m1\u001b[0m\u001b[1;33m\u001b[0m\u001b[1;33m\u001b[0m\u001b[0m\n\u001b[0;32m   1791\u001b[0m                 \u001b[0mself\u001b[0m\u001b[1;33m.\u001b[0m\u001b[0mn_dispatched_tasks\u001b[0m \u001b[1;33m+=\u001b[0m \u001b[1;36m1\u001b[0m\u001b[1;33m\u001b[0m\u001b[1;33m\u001b[0m\u001b[0m\n\u001b[1;32m-> 1792\u001b[1;33m                 \u001b[0mres\u001b[0m \u001b[1;33m=\u001b[0m \u001b[0mfunc\u001b[0m\u001b[1;33m(\u001b[0m\u001b[1;33m*\u001b[0m\u001b[0margs\u001b[0m\u001b[1;33m,\u001b[0m \u001b[1;33m**\u001b[0m\u001b[0mkwargs\u001b[0m\u001b[1;33m)\u001b[0m\u001b[1;33m\u001b[0m\u001b[1;33m\u001b[0m\u001b[0m\n\u001b[0m\u001b[0;32m   1793\u001b[0m                 \u001b[0mself\u001b[0m\u001b[1;33m.\u001b[0m\u001b[0mn_completed_tasks\u001b[0m \u001b[1;33m+=\u001b[0m \u001b[1;36m1\u001b[0m\u001b[1;33m\u001b[0m\u001b[1;33m\u001b[0m\u001b[0m\n\u001b[0;32m   1794\u001b[0m                 \u001b[0mself\u001b[0m\u001b[1;33m.\u001b[0m\u001b[0mprint_progress\u001b[0m\u001b[1;33m(\u001b[0m\u001b[1;33m)\u001b[0m\u001b[1;33m\u001b[0m\u001b[1;33m\u001b[0m\u001b[0m\n",
      "\u001b[1;32mC:\\Anaconda\\lib\\site-packages\\sklearn\\utils\\fixes.py\u001b[0m in \u001b[0;36m__call__\u001b[1;34m(self, *args, **kwargs)\u001b[0m\n\u001b[0;32m    214\u001b[0m     \u001b[1;32mdef\u001b[0m \u001b[0m__call__\u001b[0m\u001b[1;33m(\u001b[0m\u001b[0mself\u001b[0m\u001b[1;33m,\u001b[0m \u001b[1;33m*\u001b[0m\u001b[0margs\u001b[0m\u001b[1;33m,\u001b[0m \u001b[1;33m**\u001b[0m\u001b[0mkwargs\u001b[0m\u001b[1;33m)\u001b[0m\u001b[1;33m:\u001b[0m\u001b[1;33m\u001b[0m\u001b[1;33m\u001b[0m\u001b[0m\n\u001b[0;32m    215\u001b[0m         \u001b[1;32mwith\u001b[0m \u001b[0mconfig_context\u001b[0m\u001b[1;33m(\u001b[0m\u001b[1;33m**\u001b[0m\u001b[0mself\u001b[0m\u001b[1;33m.\u001b[0m\u001b[0mconfig\u001b[0m\u001b[1;33m)\u001b[0m\u001b[1;33m:\u001b[0m\u001b[1;33m\u001b[0m\u001b[1;33m\u001b[0m\u001b[0m\n\u001b[1;32m--> 216\u001b[1;33m             \u001b[1;32mreturn\u001b[0m \u001b[0mself\u001b[0m\u001b[1;33m.\u001b[0m\u001b[0mfunction\u001b[0m\u001b[1;33m(\u001b[0m\u001b[1;33m*\u001b[0m\u001b[0margs\u001b[0m\u001b[1;33m,\u001b[0m \u001b[1;33m**\u001b[0m\u001b[0mkwargs\u001b[0m\u001b[1;33m)\u001b[0m\u001b[1;33m\u001b[0m\u001b[1;33m\u001b[0m\u001b[0m\n\u001b[0m\u001b[0;32m    217\u001b[0m \u001b[1;33m\u001b[0m\u001b[0m\n\u001b[0;32m    218\u001b[0m \u001b[1;33m\u001b[0m\u001b[0m\n",
      "\u001b[1;32mC:\\Anaconda\\lib\\site-packages\\sklearn\\model_selection\\_validation.py\u001b[0m in \u001b[0;36m_fit_and_score\u001b[1;34m(estimator, X, y, scorer, train, test, verbose, parameters, fit_params, return_train_score, return_parameters, return_n_test_samples, return_times, return_estimator, split_progress, candidate_progress, error_score)\u001b[0m\n\u001b[0;32m    678\u001b[0m             \u001b[0mestimator\u001b[0m\u001b[1;33m.\u001b[0m\u001b[0mfit\u001b[0m\u001b[1;33m(\u001b[0m\u001b[0mX_train\u001b[0m\u001b[1;33m,\u001b[0m \u001b[1;33m**\u001b[0m\u001b[0mfit_params\u001b[0m\u001b[1;33m)\u001b[0m\u001b[1;33m\u001b[0m\u001b[1;33m\u001b[0m\u001b[0m\n\u001b[0;32m    679\u001b[0m         \u001b[1;32melse\u001b[0m\u001b[1;33m:\u001b[0m\u001b[1;33m\u001b[0m\u001b[1;33m\u001b[0m\u001b[0m\n\u001b[1;32m--> 680\u001b[1;33m             \u001b[0mestimator\u001b[0m\u001b[1;33m.\u001b[0m\u001b[0mfit\u001b[0m\u001b[1;33m(\u001b[0m\u001b[0mX_train\u001b[0m\u001b[1;33m,\u001b[0m \u001b[0my_train\u001b[0m\u001b[1;33m,\u001b[0m \u001b[1;33m**\u001b[0m\u001b[0mfit_params\u001b[0m\u001b[1;33m)\u001b[0m\u001b[1;33m\u001b[0m\u001b[1;33m\u001b[0m\u001b[0m\n\u001b[0m\u001b[0;32m    681\u001b[0m \u001b[1;33m\u001b[0m\u001b[0m\n\u001b[0;32m    682\u001b[0m     \u001b[1;32mexcept\u001b[0m \u001b[0mException\u001b[0m\u001b[1;33m:\u001b[0m\u001b[1;33m\u001b[0m\u001b[1;33m\u001b[0m\u001b[0m\n",
      "\u001b[1;32mC:\\Anaconda\\lib\\site-packages\\sklearn\\ensemble\\_bagging.py\u001b[0m in \u001b[0;36mfit\u001b[1;34m(self, X, y, sample_weight)\u001b[0m\n\u001b[0;32m    267\u001b[0m             \u001b[0mmulti_output\u001b[0m\u001b[1;33m=\u001b[0m\u001b[1;32mTrue\u001b[0m\u001b[1;33m,\u001b[0m\u001b[1;33m\u001b[0m\u001b[1;33m\u001b[0m\u001b[0m\n\u001b[0;32m    268\u001b[0m         )\n\u001b[1;32m--> 269\u001b[1;33m         \u001b[1;32mreturn\u001b[0m \u001b[0mself\u001b[0m\u001b[1;33m.\u001b[0m\u001b[0m_fit\u001b[0m\u001b[1;33m(\u001b[0m\u001b[0mX\u001b[0m\u001b[1;33m,\u001b[0m \u001b[0my\u001b[0m\u001b[1;33m,\u001b[0m \u001b[0mself\u001b[0m\u001b[1;33m.\u001b[0m\u001b[0mmax_samples\u001b[0m\u001b[1;33m,\u001b[0m \u001b[0msample_weight\u001b[0m\u001b[1;33m=\u001b[0m\u001b[0msample_weight\u001b[0m\u001b[1;33m)\u001b[0m\u001b[1;33m\u001b[0m\u001b[1;33m\u001b[0m\u001b[0m\n\u001b[0m\u001b[0;32m    270\u001b[0m \u001b[1;33m\u001b[0m\u001b[0m\n\u001b[0;32m    271\u001b[0m     \u001b[1;32mdef\u001b[0m \u001b[0m_parallel_args\u001b[0m\u001b[1;33m(\u001b[0m\u001b[0mself\u001b[0m\u001b[1;33m)\u001b[0m\u001b[1;33m:\u001b[0m\u001b[1;33m\u001b[0m\u001b[1;33m\u001b[0m\u001b[0m\n",
      "\u001b[1;32mC:\\Anaconda\\lib\\site-packages\\sklearn\\ensemble\\_bagging.py\u001b[0m in \u001b[0;36m_fit\u001b[1;34m(self, X, y, max_samples, max_depth, sample_weight)\u001b[0m\n\u001b[0;32m    392\u001b[0m         \u001b[0mself\u001b[0m\u001b[1;33m.\u001b[0m\u001b[0m_seeds\u001b[0m \u001b[1;33m=\u001b[0m \u001b[0mseeds\u001b[0m\u001b[1;33m\u001b[0m\u001b[1;33m\u001b[0m\u001b[0m\n\u001b[0;32m    393\u001b[0m \u001b[1;33m\u001b[0m\u001b[0m\n\u001b[1;32m--> 394\u001b[1;33m         all_results = Parallel(\n\u001b[0m\u001b[0;32m    395\u001b[0m             \u001b[0mn_jobs\u001b[0m\u001b[1;33m=\u001b[0m\u001b[0mn_jobs\u001b[0m\u001b[1;33m,\u001b[0m \u001b[0mverbose\u001b[0m\u001b[1;33m=\u001b[0m\u001b[0mself\u001b[0m\u001b[1;33m.\u001b[0m\u001b[0mverbose\u001b[0m\u001b[1;33m,\u001b[0m \u001b[1;33m**\u001b[0m\u001b[0mself\u001b[0m\u001b[1;33m.\u001b[0m\u001b[0m_parallel_args\u001b[0m\u001b[1;33m(\u001b[0m\u001b[1;33m)\u001b[0m\u001b[1;33m\u001b[0m\u001b[1;33m\u001b[0m\u001b[0m\n\u001b[0;32m    396\u001b[0m         \u001b[1;33m)\u001b[0m\u001b[1;33m(\u001b[0m\u001b[1;33m\u001b[0m\u001b[1;33m\u001b[0m\u001b[0m\n",
      "\u001b[1;32mC:\\Anaconda\\lib\\site-packages\\joblib\\parallel.py\u001b[0m in \u001b[0;36m__call__\u001b[1;34m(self, iterable)\u001b[0m\n\u001b[0;32m   1861\u001b[0m             \u001b[0moutput\u001b[0m \u001b[1;33m=\u001b[0m \u001b[0mself\u001b[0m\u001b[1;33m.\u001b[0m\u001b[0m_get_sequential_output\u001b[0m\u001b[1;33m(\u001b[0m\u001b[0miterable\u001b[0m\u001b[1;33m)\u001b[0m\u001b[1;33m\u001b[0m\u001b[1;33m\u001b[0m\u001b[0m\n\u001b[0;32m   1862\u001b[0m             \u001b[0mnext\u001b[0m\u001b[1;33m(\u001b[0m\u001b[0moutput\u001b[0m\u001b[1;33m)\u001b[0m\u001b[1;33m\u001b[0m\u001b[1;33m\u001b[0m\u001b[0m\n\u001b[1;32m-> 1863\u001b[1;33m             \u001b[1;32mreturn\u001b[0m \u001b[0moutput\u001b[0m \u001b[1;32mif\u001b[0m \u001b[0mself\u001b[0m\u001b[1;33m.\u001b[0m\u001b[0mreturn_generator\u001b[0m \u001b[1;32melse\u001b[0m \u001b[0mlist\u001b[0m\u001b[1;33m(\u001b[0m\u001b[0moutput\u001b[0m\u001b[1;33m)\u001b[0m\u001b[1;33m\u001b[0m\u001b[1;33m\u001b[0m\u001b[0m\n\u001b[0m\u001b[0;32m   1864\u001b[0m \u001b[1;33m\u001b[0m\u001b[0m\n\u001b[0;32m   1865\u001b[0m         \u001b[1;31m# Let's create an ID that uniquely identifies the current call. If the\u001b[0m\u001b[1;33m\u001b[0m\u001b[1;33m\u001b[0m\u001b[0m\n",
      "\u001b[1;32mC:\\Anaconda\\lib\\site-packages\\joblib\\parallel.py\u001b[0m in \u001b[0;36m_get_sequential_output\u001b[1;34m(self, iterable)\u001b[0m\n\u001b[0;32m   1790\u001b[0m                 \u001b[0mself\u001b[0m\u001b[1;33m.\u001b[0m\u001b[0mn_dispatched_batches\u001b[0m \u001b[1;33m+=\u001b[0m \u001b[1;36m1\u001b[0m\u001b[1;33m\u001b[0m\u001b[1;33m\u001b[0m\u001b[0m\n\u001b[0;32m   1791\u001b[0m                 \u001b[0mself\u001b[0m\u001b[1;33m.\u001b[0m\u001b[0mn_dispatched_tasks\u001b[0m \u001b[1;33m+=\u001b[0m \u001b[1;36m1\u001b[0m\u001b[1;33m\u001b[0m\u001b[1;33m\u001b[0m\u001b[0m\n\u001b[1;32m-> 1792\u001b[1;33m                 \u001b[0mres\u001b[0m \u001b[1;33m=\u001b[0m \u001b[0mfunc\u001b[0m\u001b[1;33m(\u001b[0m\u001b[1;33m*\u001b[0m\u001b[0margs\u001b[0m\u001b[1;33m,\u001b[0m \u001b[1;33m**\u001b[0m\u001b[0mkwargs\u001b[0m\u001b[1;33m)\u001b[0m\u001b[1;33m\u001b[0m\u001b[1;33m\u001b[0m\u001b[0m\n\u001b[0m\u001b[0;32m   1793\u001b[0m                 \u001b[0mself\u001b[0m\u001b[1;33m.\u001b[0m\u001b[0mn_completed_tasks\u001b[0m \u001b[1;33m+=\u001b[0m \u001b[1;36m1\u001b[0m\u001b[1;33m\u001b[0m\u001b[1;33m\u001b[0m\u001b[0m\n\u001b[0;32m   1794\u001b[0m                 \u001b[0mself\u001b[0m\u001b[1;33m.\u001b[0m\u001b[0mprint_progress\u001b[0m\u001b[1;33m(\u001b[0m\u001b[1;33m)\u001b[0m\u001b[1;33m\u001b[0m\u001b[1;33m\u001b[0m\u001b[0m\n",
      "\u001b[1;32mC:\\Anaconda\\lib\\site-packages\\sklearn\\utils\\fixes.py\u001b[0m in \u001b[0;36m__call__\u001b[1;34m(self, *args, **kwargs)\u001b[0m\n\u001b[0;32m    214\u001b[0m     \u001b[1;32mdef\u001b[0m \u001b[0m__call__\u001b[0m\u001b[1;33m(\u001b[0m\u001b[0mself\u001b[0m\u001b[1;33m,\u001b[0m \u001b[1;33m*\u001b[0m\u001b[0margs\u001b[0m\u001b[1;33m,\u001b[0m \u001b[1;33m**\u001b[0m\u001b[0mkwargs\u001b[0m\u001b[1;33m)\u001b[0m\u001b[1;33m:\u001b[0m\u001b[1;33m\u001b[0m\u001b[1;33m\u001b[0m\u001b[0m\n\u001b[0;32m    215\u001b[0m         \u001b[1;32mwith\u001b[0m \u001b[0mconfig_context\u001b[0m\u001b[1;33m(\u001b[0m\u001b[1;33m**\u001b[0m\u001b[0mself\u001b[0m\u001b[1;33m.\u001b[0m\u001b[0mconfig\u001b[0m\u001b[1;33m)\u001b[0m\u001b[1;33m:\u001b[0m\u001b[1;33m\u001b[0m\u001b[1;33m\u001b[0m\u001b[0m\n\u001b[1;32m--> 216\u001b[1;33m             \u001b[1;32mreturn\u001b[0m \u001b[0mself\u001b[0m\u001b[1;33m.\u001b[0m\u001b[0mfunction\u001b[0m\u001b[1;33m(\u001b[0m\u001b[1;33m*\u001b[0m\u001b[0margs\u001b[0m\u001b[1;33m,\u001b[0m \u001b[1;33m**\u001b[0m\u001b[0mkwargs\u001b[0m\u001b[1;33m)\u001b[0m\u001b[1;33m\u001b[0m\u001b[1;33m\u001b[0m\u001b[0m\n\u001b[0m\u001b[0;32m    217\u001b[0m \u001b[1;33m\u001b[0m\u001b[0m\n\u001b[0;32m    218\u001b[0m \u001b[1;33m\u001b[0m\u001b[0m\n",
      "\u001b[1;32mC:\\Anaconda\\lib\\site-packages\\sklearn\\ensemble\\_bagging.py\u001b[0m in \u001b[0;36m_parallel_build_estimators\u001b[1;34m(n_estimators, ensemble, X, y, sample_weight, seeds, total_n_estimators, verbose)\u001b[0m\n\u001b[0;32m    121\u001b[0m                 \u001b[0mcurr_sample_weight\u001b[0m\u001b[1;33m[\u001b[0m\u001b[0mnot_indices_mask\u001b[0m\u001b[1;33m]\u001b[0m \u001b[1;33m=\u001b[0m \u001b[1;36m0\u001b[0m\u001b[1;33m\u001b[0m\u001b[1;33m\u001b[0m\u001b[0m\n\u001b[0;32m    122\u001b[0m \u001b[1;33m\u001b[0m\u001b[0m\n\u001b[1;32m--> 123\u001b[1;33m             \u001b[0mestimator\u001b[0m\u001b[1;33m.\u001b[0m\u001b[0mfit\u001b[0m\u001b[1;33m(\u001b[0m\u001b[0mX\u001b[0m\u001b[1;33m[\u001b[0m\u001b[1;33m:\u001b[0m\u001b[1;33m,\u001b[0m \u001b[0mfeatures\u001b[0m\u001b[1;33m]\u001b[0m\u001b[1;33m,\u001b[0m \u001b[0my\u001b[0m\u001b[1;33m,\u001b[0m \u001b[0msample_weight\u001b[0m\u001b[1;33m=\u001b[0m\u001b[0mcurr_sample_weight\u001b[0m\u001b[1;33m)\u001b[0m\u001b[1;33m\u001b[0m\u001b[1;33m\u001b[0m\u001b[0m\n\u001b[0m\u001b[0;32m    124\u001b[0m \u001b[1;33m\u001b[0m\u001b[0m\n\u001b[0;32m    125\u001b[0m         \u001b[1;32melse\u001b[0m\u001b[1;33m:\u001b[0m\u001b[1;33m\u001b[0m\u001b[1;33m\u001b[0m\u001b[0m\n",
      "\u001b[1;32mC:\\Anaconda\\lib\\site-packages\\sklearn\\tree\\_classes.py\u001b[0m in \u001b[0;36mfit\u001b[1;34m(self, X, y, sample_weight, check_input, X_idx_sorted)\u001b[0m\n\u001b[0;32m    935\u001b[0m         \"\"\"\n\u001b[0;32m    936\u001b[0m \u001b[1;33m\u001b[0m\u001b[0m\n\u001b[1;32m--> 937\u001b[1;33m         super().fit(\n\u001b[0m\u001b[0;32m    938\u001b[0m             \u001b[0mX\u001b[0m\u001b[1;33m,\u001b[0m\u001b[1;33m\u001b[0m\u001b[1;33m\u001b[0m\u001b[0m\n\u001b[0;32m    939\u001b[0m             \u001b[0my\u001b[0m\u001b[1;33m,\u001b[0m\u001b[1;33m\u001b[0m\u001b[1;33m\u001b[0m\u001b[0m\n",
      "\u001b[1;32mC:\\Anaconda\\lib\\site-packages\\sklearn\\tree\\_classes.py\u001b[0m in \u001b[0;36mfit\u001b[1;34m(self, X, y, sample_weight, check_input, X_idx_sorted)\u001b[0m\n\u001b[0;32m    418\u001b[0m             )\n\u001b[0;32m    419\u001b[0m \u001b[1;33m\u001b[0m\u001b[0m\n\u001b[1;32m--> 420\u001b[1;33m         \u001b[0mbuilder\u001b[0m\u001b[1;33m.\u001b[0m\u001b[0mbuild\u001b[0m\u001b[1;33m(\u001b[0m\u001b[0mself\u001b[0m\u001b[1;33m.\u001b[0m\u001b[0mtree_\u001b[0m\u001b[1;33m,\u001b[0m \u001b[0mX\u001b[0m\u001b[1;33m,\u001b[0m \u001b[0my\u001b[0m\u001b[1;33m,\u001b[0m \u001b[0msample_weight\u001b[0m\u001b[1;33m)\u001b[0m\u001b[1;33m\u001b[0m\u001b[1;33m\u001b[0m\u001b[0m\n\u001b[0m\u001b[0;32m    421\u001b[0m \u001b[1;33m\u001b[0m\u001b[0m\n\u001b[0;32m    422\u001b[0m         \u001b[1;32mif\u001b[0m \u001b[0mself\u001b[0m\u001b[1;33m.\u001b[0m\u001b[0mn_outputs_\u001b[0m \u001b[1;33m==\u001b[0m \u001b[1;36m1\u001b[0m \u001b[1;32mand\u001b[0m \u001b[0mis_classifier\u001b[0m\u001b[1;33m(\u001b[0m\u001b[0mself\u001b[0m\u001b[1;33m)\u001b[0m\u001b[1;33m:\u001b[0m\u001b[1;33m\u001b[0m\u001b[1;33m\u001b[0m\u001b[0m\n",
      "\u001b[1;31mKeyboardInterrupt\u001b[0m: "
     ]
    }
   ],
   "source": [
    "grid_search.fit(X_train, y_train)\n"
   ]
  },
  {
   "cell_type": "code",
   "execution_count": null,
   "id": "919aa832",
   "metadata": {},
   "outputs": [],
   "source": [
    "# Print the best hyperparameters\n",
    "print(\"Best Hyperparameters:\", grid_search.best_params_)\n",
    "\n"
   ]
  },
  {
   "cell_type": "code",
   "execution_count": null,
   "id": "dad1142b",
   "metadata": {},
   "outputs": [],
   "source": [
    "# Test the model on an independent test set\n",
    "y_test_pred = grid_search.predict(X_test)\n",
    "test_f1 = f1_score(y_test, y_test_pred)\n",
    "print(\"F1-Score on Test Set:\", test_f1)\n",
    "print(metrics.classification_report(y_test,y_test_pred)) # random forest, ensembel, bagging"
   ]
  },
  {
   "cell_type": "code",
   "execution_count": 328,
   "id": "caa17331",
   "metadata": {},
   "outputs": [
    {
     "data": {
      "text/plain": [
       "RandomForestClassifier(random_state=42)"
      ]
     },
     "execution_count": 328,
     "metadata": {},
     "output_type": "execute_result"
    }
   ],
   "source": [
    "# Create a Random Forest model\n",
    "rf_model = RandomForestClassifier(n_estimators=100, random_state=42)\n",
    "\n",
    "# Train the model\n",
    "rf_model.fit(X_train, y_train)"
   ]
  },
  {
   "cell_type": "code",
   "execution_count": 329,
   "id": "810b116a",
   "metadata": {},
   "outputs": [],
   "source": [
    "# Train the model\n",
    "#rf_model.fit(X_train, y_train)\n",
    "\n",
    "# Get predicted probabilities for the positive class\n",
    "y_probabilities = rf_model.predict_proba(X_test)[:, 1]\n",
    "\n",
    "# Calculate ROC-AUC score\n",
    "auc_score = roc_auc_score(y_test, y_probabilities)"
   ]
  },
  {
   "cell_type": "code",
   "execution_count": 330,
   "id": "f0a691bd",
   "metadata": {},
   "outputs": [
    {
     "name": "stdout",
     "output_type": "stream",
     "text": [
      "Adjusted ROC-AUC Score: 0.8776100387527221\n"
     ]
    }
   ],
   "source": [
    "# Example: Adjusting the number of trees\n",
    "rf_model_adjusted = RandomForestClassifier(n_estimators=200, random_state=42)\n",
    "rf_model_adjusted.fit(X_train, y_train)\n",
    "y_probabilities_adjusted = rf_model_adjusted.predict_proba(X_test)[:, 1]\n",
    "auc_score_adjusted = roc_auc_score(y_test, y_probabilities_adjusted)\n",
    "print(f\"Adjusted ROC-AUC Score: {auc_score_adjusted}\")\n"
   ]
  },
  {
   "cell_type": "code",
   "execution_count": 331,
   "id": "b8d97c06",
   "metadata": {},
   "outputs": [],
   "source": [
    "fpr, tpr, thresholds = roc_curve(y_test, y_probabilities)\n"
   ]
  },
  {
   "cell_type": "code",
   "execution_count": 332,
   "id": "019fff1e",
   "metadata": {},
   "outputs": [
    {
     "data": {
      "image/png": "[encoded data removed]",
      "text/plain": [
       "<Figure size 800x600 with 1 Axes>"
      ]
     },
     "metadata": {},
     "output_type": "display_data"
    }
   ],
   "source": [
    "# Plot ROC curve\n",
    "plt.figure(figsize=(8, 6))\n",
    "plt.plot(fpr, tpr, label=f'ROC Curve (AUC = {roc_auc_score(y_test, y_probabilities):.2f})')\n",
    "plt.plot([0, 1], [0, 1], linestyle='--', color='gray', label='Random')\n",
    "plt.xlabel('False Positive Rate')\n",
    "plt.ylabel('True Positive Rate')\n",
    "plt.title('ROC Curve')\n",
    "plt.legend()\n",
    "plt.show()"
   ]
  },
  {
   "cell_type": "code",
   "execution_count": 333,
   "id": "c938190f",
   "metadata": {},
   "outputs": [
    {
     "name": "stdout",
     "output_type": "stream",
     "text": [
      "Optimal Threshold: 0.16\n"
     ]
    }
   ],
   "source": [
    "# Find the optimal threshold based on the ROC curve\n",
    "optimal_threshold_index = np.argmax(tpr - fpr)\n",
    "optimal_threshold = thresholds[optimal_threshold_index]\n",
    "print(f'Optimal Threshold: {optimal_threshold}')"
   ]
  },
  {
   "cell_type": "code",
   "execution_count": 334,
   "id": "9cc183eb",
   "metadata": {},
   "outputs": [],
   "source": [
    "threshold = 0.16\n",
    "\n",
    "y_pred_adjusted = (y_probabilities >= threshold).astype(int)"
   ]
  },
  {
   "cell_type": "code",
   "execution_count": 335,
   "id": "102452c7",
   "metadata": {},
   "outputs": [
    {
     "name": "stdout",
     "output_type": "stream",
     "text": [
      "Accuracy: 0.7959947663007924\n",
      "Precision: 0.26172768878718533\n",
      "Recall: 0.8022797018851381\n",
      "F1 Score: 0.3946942736978324\n",
      "Confusion Matrix:\n",
      "[[20071  5162]\n",
      " [  451  1830]]\n"
     ]
    }
   ],
   "source": [
    "from sklearn.metrics import accuracy_score, precision_score, recall_score, f1_score, confusion_matrix\n",
    "\n",
    "# Example: Evaluate the model with adjusted threshold\n",
    "accuracy = accuracy_score(y_test, y_pred_adjusted)\n",
    "precision = precision_score(y_test, y_pred_adjusted)\n",
    "recall = recall_score(y_test, y_pred_adjusted)\n",
    "f1 = f1_score(y_test, y_pred_adjusted)\n",
    "confusion = confusion_matrix(y_test, y_pred_adjusted)\n",
    "\n",
    "print(f\"Accuracy: {accuracy}\")\n",
    "print(f\"Precision: {precision}\")\n",
    "print(f\"Recall: {recall}\")\n",
    "print(f\"F1 Score: {f1}\")\n",
    "print(f\"Confusion Matrix:\\n{confusion}\")\n"
   ]
  },
  {
   "cell_type": "code",
   "execution_count": 336,
   "id": "408d1762",
   "metadata": {},
   "outputs": [
    {
     "name": "stdout",
     "output_type": "stream",
     "text": [
      "              precision    recall  f1-score   support\n",
      "\n",
      "           0       0.98      0.80      0.88     25233\n",
      "           1       0.26      0.80      0.39      2281\n",
      "\n",
      "    accuracy                           0.80     27514\n",
      "   macro avg       0.62      0.80      0.64     27514\n",
      "weighted avg       0.92      0.80      0.84     27514\n",
      "\n"
     ]
    }
   ],
   "source": [
    "# summarize the fit of the model\n",
    "print(metrics.classification_report(y_test, y_pred_adjusted)) #k nearest neighbour "
   ]
  },
  {
   "cell_type": "markdown",
   "id": "f00f57e8",
   "metadata": {},
   "source": [
    "#### Adaboost"
   ]
  },
  {
   "cell_type": "code",
   "execution_count": 337,
   "id": "383ed569",
   "metadata": {},
   "outputs": [
    {
     "data": {
      "text/plain": [
       "AdaBoostClassifier(base_estimator=DecisionTreeClassifier(max_depth=1),\n",
       "                   random_state=42)"
      ]
     },
     "execution_count": 337,
     "metadata": {},
     "output_type": "execute_result"
    }
   ],
   "source": [
    "from sklearn.ensemble import AdaBoostClassifier\n",
    "from sklearn.tree import DecisionTreeClassifier\n",
    "from sklearn.model_selection import train_test_split\n",
    "from sklearn.metrics import accuracy_score, confusion_matrix\n",
    "\n",
    "# Assuming X and y are your features and target variable\n",
    "#X_train, X_test, y_train, y_test = train_test_split(X, df_target, test_size=0.2, random_state=42)\n",
    "\n",
    "# Create a weak learner (base model), e.g., a decision tree\n",
    "base_model = DecisionTreeClassifier(max_depth=1)\n",
    "\n",
    "# Create an AdaBoost classifier with the weak learner\n",
    "adaboost_model = AdaBoostClassifier(base_model, n_estimators=50, random_state=42)\n",
    "\n",
    "# Fit the AdaBoost model to the training data\n",
    "adaboost_model.fit(X_train, y_train)"
   ]
  },
  {
   "cell_type": "code",
   "execution_count": 338,
   "id": "a904c56d",
   "metadata": {},
   "outputs": [
    {
     "name": "stdout",
     "output_type": "stream",
     "text": [
      "Confusion Matrix on Training Data:\n",
      "[[56619  1946]\n",
      " [ 5152  6561]]\n",
      "Accuracy on Training Data: 0.8990\n"
     ]
    }
   ],
   "source": [
    "y_trained_pred = adaboost_model.predict(X_train)\n",
    "\n",
    "# Obtain the confusion matrix for training data\n",
    "conf_matrix_train = confusion_matrix(y_train, y_trained_pred)\n",
    "\n",
    "# Print the confusion matrix for training data\n",
    "print(\"Confusion Matrix on Training Data:\")\n",
    "print(conf_matrix_train)\n",
    "\n",
    "# Calculate and print the accuracy on training data\n",
    "accuracy_train = accuracy_score(y_train, y_trained_pred)\n",
    "print(f\"Accuracy on Training Data: {accuracy_train:.4f}\")"
   ]
  },
  {
   "cell_type": "code",
   "execution_count": 339,
   "id": "0432407e",
   "metadata": {},
   "outputs": [
    {
     "name": "stdout",
     "output_type": "stream",
     "text": [
      "              precision    recall  f1-score   support\n",
      "\n",
      "           0       0.92      0.97      0.94     58565\n",
      "           1       0.77      0.56      0.65     11713\n",
      "\n",
      "    accuracy                           0.90     70278\n",
      "   macro avg       0.84      0.76      0.79     70278\n",
      "weighted avg       0.89      0.90      0.89     70278\n",
      "\n"
     ]
    }
   ],
   "source": [
    "print(metrics.classification_report(y_train,y_trained_pred)) #adaboosting\n"
   ]
  },
  {
   "cell_type": "code",
   "execution_count": null,
   "id": "09e467ac",
   "metadata": {},
   "outputs": [],
   "source": []
  },
  {
   "cell_type": "code",
   "execution_count": 340,
   "id": "7755447f",
   "metadata": {},
   "outputs": [],
   "source": [
    "y_test_pred=adaboost_model.predict(X_test)"
   ]
  },
  {
   "cell_type": "code",
   "execution_count": 341,
   "id": "717cd4c5",
   "metadata": {},
   "outputs": [
    {
     "name": "stdout",
     "output_type": "stream",
     "text": [
      "              precision    recall  f1-score   support\n",
      "\n",
      "           0       0.94      0.97      0.96     25233\n",
      "           1       0.51      0.38      0.43      2281\n",
      "\n",
      "    accuracy                           0.92     27514\n",
      "   macro avg       0.73      0.67      0.70     27514\n",
      "weighted avg       0.91      0.92      0.91     27514\n",
      "\n"
     ]
    }
   ],
   "source": [
    "print(metrics.classification_report(y_test,y_test_pred)) #adaboosting"
   ]
  },
  {
   "cell_type": "code",
   "execution_count": null,
   "id": "ca3df2f4",
   "metadata": {},
   "outputs": [],
   "source": []
  },
  {
   "cell_type": "markdown",
   "id": "f032fbaf",
   "metadata": {},
   "source": [
    "### Majority Vote"
   ]
  },
  {
   "cell_type": "code",
   "execution_count": null,
   "id": "62523f9a",
   "metadata": {},
   "outputs": [],
   "source": [
    "from sklearn.model_selection import train_test_split\n",
    "from sklearn.ensemble import RandomForestClassifier\n",
    "from sklearn.neighbors import KNeighborsClassifier\n",
    "from sklearn.naive_bayes import GaussianNB\n",
    "from sklearn.metrics import accuracy_score\n",
    "import numpy as np"
   ]
  },
  {
   "cell_type": "code",
   "execution_count": 343,
   "id": "df5ade43",
   "metadata": {},
   "outputs": [],
   "source": [
    "# Train individual models\n",
    "rf_model = RandomForestClassifier(n_estimators=100, random_state=42)\n",
    "knn_model = KNeighborsClassifier(n_neighbors=3)\n",
    "nb_model = GaussianNB()\n",
    "#adaboost_model = AdaBoostClassifier(base_model, n_estimators=50, random_state=42)\n",
    "\n"
   ]
  },
  {
   "cell_type": "code",
   "execution_count": 344,
   "id": "87d49626",
   "metadata": {},
   "outputs": [
    {
     "data": {
      "text/plain": [
       "GaussianNB()"
      ]
     },
     "execution_count": 344,
     "metadata": {},
     "output_type": "execute_result"
    }
   ],
   "source": [
    "rf_model.fit(X_train, y_train)\n",
    "knn_model.fit(X_train, y_train)\n",
    "nb_model.fit(X_train, y_train)\n",
    "#adaboost_model.fit(X_train, y_train)\n"
   ]
  },
  {
   "cell_type": "code",
   "execution_count": 345,
   "id": "c270a4c4",
   "metadata": {},
   "outputs": [
    {
     "name": "stdout",
     "output_type": "stream",
     "text": [
      "Majority Vote Accuracy: 0.8885294759031765\n",
      "              precision    recall  f1-score   support\n",
      "\n",
      "           0       0.95      0.93      0.94     25233\n",
      "           1       0.36      0.44      0.40      2281\n",
      "\n",
      "    accuracy                           0.89     27514\n",
      "   macro avg       0.65      0.69      0.67     27514\n",
      "weighted avg       0.90      0.89      0.89     27514\n",
      "\n"
     ]
    }
   ],
   "source": [
    "\n",
    "\n",
    "# Assuming X and y are your feature matrix and target variable\n",
    "#X_train, X_test, y_train, y_test = train_test_split(x, y, test_size=0.2, random_state=42)\n",
    "\n",
    "\n",
    "\n",
    "# Generate predictions from each model\n",
    "rf_predictions = rf_model.predict(X_test)\n",
    "knn_predictions = knn_model.predict(X_test)\n",
    "nb_predictions = nb_model.predict(X_test)\n",
    "adb_predictions=adaboost_model.predict(X_test)\n",
    "\n",
    "# Aggregate predictions using majority vote\n",
    "majority_vote_predictions = np.array([np.argmax(np.bincount([rf, knn, nb])) for rf, knn, nb in zip(rf_predictions, knn_predictions, nb_predictions)])\n",
    "\n",
    "# Evaluate the performance of the Majority Vote\n",
    "accuracy = accuracy_score(y_test, majority_vote_predictions)\n",
    "print(f'Majority Vote Accuracy: {accuracy}')\n",
    "print(metrics.classification_report(y_test,majority_vote_predictions))"
   ]
  },
  {
   "cell_type": "code",
   "execution_count": null,
   "id": "132a31de",
   "metadata": {},
   "outputs": [],
   "source": []
  },
  {
   "cell_type": "code",
   "execution_count": 349,
   "id": "2a6e5ce9",
   "metadata": {},
   "outputs": [],
   "source": [
    "from sklearn.tree import DecisionTreeClassifier"
   ]
  },
  {
   "cell_type": "code",
   "execution_count": 350,
   "id": "54cbd265",
   "metadata": {},
   "outputs": [],
   "source": [
    "# Train individual models\n",
    "dt_model=DecisionTreeClassifier(criterion='entropy',max_depth=5)\n",
    "lr_model = LogisticRegression()\n",
    "nb_model = GaussianNB()\n",
    "#adaboost_model = AdaBoostClassifier(base_model, n_estimators=50, random_state=42)\n",
    "\n"
   ]
  },
  {
   "cell_type": "code",
   "execution_count": 351,
   "id": "7dd71bf8",
   "metadata": {},
   "outputs": [
    {
     "data": {
      "text/plain": [
       "GaussianNB()"
      ]
     },
     "execution_count": 351,
     "metadata": {},
     "output_type": "execute_result"
    }
   ],
   "source": [
    "dt_model.fit(X_train, y_train)\n",
    "lr_model.fit(X_train, y_train)\n",
    "nb_model.fit(X_train, y_train)\n",
    "#adaboost_model.fit(X_train, y_train)\n"
   ]
  },
  {
   "cell_type": "code",
   "execution_count": 352,
   "id": "defefafc",
   "metadata": {},
   "outputs": [
    {
     "name": "stdout",
     "output_type": "stream",
     "text": [
      "Majority Vote Accuracy: 0.9093188922003343\n",
      "              precision    recall  f1-score   support\n",
      "\n",
      "           0       0.95      0.95      0.95     25233\n",
      "           1       0.45      0.41      0.43      2281\n",
      "\n",
      "    accuracy                           0.91     27514\n",
      "   macro avg       0.70      0.68      0.69     27514\n",
      "weighted avg       0.91      0.91      0.91     27514\n",
      "\n"
     ]
    }
   ],
   "source": [
    "\n",
    "\n",
    "# Assuming X and y are your feature matrix and target variable\n",
    "#X_train, X_test, y_train, y_test = train_test_split(x, y, test_size=0.2, random_state=42)\n",
    "\n",
    "\n",
    "\n",
    "# Generate predictions from each model\n",
    "dt_predictions = dt_model.predict(X_test)\n",
    "lr_predictions = lr_model.predict(X_test)\n",
    "nb_predictions = nb_model.predict(X_test)\n",
    "#adb_predictions=adaboost_model.predict(X_test)\n",
    "\n",
    "# Aggregate predictions using majority vote\n",
    "majority_vote_predictions = np.array([np.argmax(np.bincount([dt, lr, nb])) for dt, lr, nb in zip(dt_predictions, lr_predictions, nb_predictions)])\n",
    "\n",
    "# Evaluate the performance of the Majority Vote\n",
    "accuracy = accuracy_score(y_test, majority_vote_predictions)\n",
    "print(f'Majority Vote Accuracy: {accuracy}')\n",
    "print(metrics.classification_report(y_test,majority_vote_predictions))"
   ]
  }
 ],
 "metadata": {
  "kernelspec": {
   "display_name": "Python 3 (ipykernel)",
   "language": "python",
   "name": "python3"
  },
  "language_info": {
   "codemirror_mode": {
    "name": "ipython",
    "version": 3
   },
   "file_extension": ".py",
   "mimetype": "text/x-python",
   "name": "python",
   "nbconvert_exporter": "python",
   "pygments_lexer": "ipython3",
   "version": "3.9.13"
  }
 },
 "nbformat": 4,
 "nbformat_minor": 5
}
